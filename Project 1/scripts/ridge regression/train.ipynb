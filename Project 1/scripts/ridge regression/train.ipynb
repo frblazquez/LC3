{
 "cells": [
  {
   "cell_type": "code",
   "execution_count": 1,
   "metadata": {},
   "outputs": [],
   "source": [
    "import numpy  as np"
   ]
  },
  {
   "cell_type": "code",
   "execution_count": 2,
   "metadata": {},
   "outputs": [],
   "source": [
    "from proj1_helpers    import *\n",
    "from implementations  import *\n",
    "from preprocessing    import *\n",
    "from cross_validation import *"
   ]
  },
  {
   "cell_type": "code",
   "execution_count": 8,
   "metadata": {},
   "outputs": [],
   "source": [
    "DATA_TRAIN_PATH = '../../data/train.csv'"
   ]
  },
  {
   "cell_type": "code",
   "execution_count": 9,
   "metadata": {},
   "outputs": [],
   "source": [
    "# Get data from file\n",
    "y, tx, ids = load_csv_data(DATA_TRAIN_PATH)"
   ]
  },
  {
   "cell_type": "markdown",
   "metadata": {},
   "source": [
    "##### Cross validation"
   ]
  },
  {
   "cell_type": "code",
   "execution_count": 5,
   "metadata": {
    "scrolled": true
   },
   "outputs": [
    {
     "name": "stdout",
     "output_type": "stream",
     "text": [
      "Precission 0.7046919999999999 obtained for MVT=0.65 CT=0.85 OT=3 AD=1LAMB0.01\n",
      "Precission 0.7047920000000001 obtained for MVT=0.65 CT=0.85 OT=3 AD=1LAMB0.1\n",
      "Precission 0.7046439999999999 obtained for MVT=0.65 CT=0.85 OT=3 AD=1LAMB1\n",
      "Precission 0.704604 obtained for MVT=0.65 CT=0.85 OT=3 AD=1LAMB10\n",
      "Precission 0.7045920000000001 obtained for MVT=0.65 CT=0.85 OT=3 AD=1LAMB100\n",
      "Precission 0.7345840000000001 obtained for MVT=0.65 CT=0.85 OT=3 AD=2LAMB0.01\n",
      "Precission 0.7336120000000002 obtained for MVT=0.65 CT=0.85 OT=3 AD=2LAMB0.1\n",
      "Precission 0.7343680000000001 obtained for MVT=0.65 CT=0.85 OT=3 AD=2LAMB1\n",
      "Precission 0.734496 obtained for MVT=0.65 CT=0.85 OT=3 AD=2LAMB10\n",
      "Precission 0.7327199999999999 obtained for MVT=0.65 CT=0.85 OT=3 AD=2LAMB100\n",
      "Precission 0.710468 obtained for MVT=0.65 CT=0.85 OT=3 AD=3LAMB0.01\n",
      "Precission 0.710508 obtained for MVT=0.65 CT=0.85 OT=3 AD=3LAMB0.1\n",
      "Precission 0.7150080000000001 obtained for MVT=0.65 CT=0.85 OT=3 AD=3LAMB1\n",
      "Precission 0.725952 obtained for MVT=0.65 CT=0.85 OT=3 AD=3LAMB10\n",
      "Precission 0.7324839999999999 obtained for MVT=0.65 CT=0.85 OT=3 AD=3LAMB100\n",
      "Precission 0.707208 obtained for MVT=0.65 CT=0.85 OT=5 AD=1LAMB0.01\n",
      "Precission 0.707048 obtained for MVT=0.65 CT=0.85 OT=5 AD=1LAMB0.1\n",
      "Precission 0.707164 obtained for MVT=0.65 CT=0.85 OT=5 AD=1LAMB1\n",
      "Precission 0.707204 obtained for MVT=0.65 CT=0.85 OT=5 AD=1LAMB10\n",
      "Precission 0.7073560000000001 obtained for MVT=0.65 CT=0.85 OT=5 AD=1LAMB100\n",
      "Precission 0.7399239999999999 obtained for MVT=0.65 CT=0.85 OT=5 AD=2LAMB0.01\n",
      "Precission 0.740036 obtained for MVT=0.65 CT=0.85 OT=5 AD=2LAMB0.1\n",
      "Precission 0.7398279999999999 obtained for MVT=0.65 CT=0.85 OT=5 AD=2LAMB1\n",
      "Precission 0.7401760000000002 obtained for MVT=0.65 CT=0.85 OT=5 AD=2LAMB10\n",
      "Precission 0.739288 obtained for MVT=0.65 CT=0.85 OT=5 AD=2LAMB100\n",
      "Precission 0.727332 obtained for MVT=0.65 CT=0.85 OT=5 AD=3LAMB0.01\n",
      "Precission 0.7258800000000001 obtained for MVT=0.65 CT=0.85 OT=5 AD=3LAMB0.1\n",
      "Precission 0.7274559999999999 obtained for MVT=0.65 CT=0.85 OT=5 AD=3LAMB1\n",
      "Precission 0.7305999999999999 obtained for MVT=0.65 CT=0.85 OT=5 AD=3LAMB10\n",
      "Precission 0.736012 obtained for MVT=0.65 CT=0.85 OT=5 AD=3LAMB100\n",
      "Precission 0.711684 obtained for MVT=1 CT=0.85 OT=3 AD=1LAMB0.01\n",
      "Precission 0.7114800000000001 obtained for MVT=1 CT=0.85 OT=3 AD=1LAMB0.1\n",
      "Precission 0.7115959999999999 obtained for MVT=1 CT=0.85 OT=3 AD=1LAMB1\n",
      "Precission 0.711708 obtained for MVT=1 CT=0.85 OT=3 AD=1LAMB10\n",
      "Precission 0.7118519999999999 obtained for MVT=1 CT=0.85 OT=3 AD=1LAMB100\n",
      "Precission 0.73952 obtained for MVT=1 CT=0.85 OT=3 AD=2LAMB0.01\n",
      "Precission 0.739848 obtained for MVT=1 CT=0.85 OT=3 AD=2LAMB0.1\n",
      "Precission 0.739632 obtained for MVT=1 CT=0.85 OT=3 AD=2LAMB1\n",
      "Precission 0.740412 obtained for MVT=1 CT=0.85 OT=3 AD=2LAMB10\n",
      "Precission 0.739548 obtained for MVT=1 CT=0.85 OT=3 AD=2LAMB100\n",
      "Precission 0.712692 obtained for MVT=1 CT=0.85 OT=3 AD=3LAMB0.01\n",
      "Precission 0.7129 obtained for MVT=1 CT=0.85 OT=3 AD=3LAMB0.1\n",
      "Precission 0.718272 obtained for MVT=1 CT=0.85 OT=3 AD=3LAMB1\n",
      "Precission 0.730564 obtained for MVT=1 CT=0.85 OT=3 AD=3LAMB10\n",
      "Precission 0.737888 obtained for MVT=1 CT=0.85 OT=3 AD=3LAMB100\n",
      "Precission 0.715584 obtained for MVT=1 CT=0.85 OT=5 AD=1LAMB0.01\n",
      "Precission 0.715348 obtained for MVT=1 CT=0.85 OT=5 AD=1LAMB0.1\n",
      "Precission 0.715248 obtained for MVT=1 CT=0.85 OT=5 AD=1LAMB1\n",
      "Precission 0.7154360000000001 obtained for MVT=1 CT=0.85 OT=5 AD=1LAMB10\n",
      "Precission 0.7153320000000001 obtained for MVT=1 CT=0.85 OT=5 AD=1LAMB100\n",
      "Precission 0.7473719999999999 obtained for MVT=1 CT=0.85 OT=5 AD=2LAMB0.01\n",
      "Precission 0.7473120000000001 obtained for MVT=1 CT=0.85 OT=5 AD=2LAMB0.1\n",
      "Precission 0.74718 obtained for MVT=1 CT=0.85 OT=5 AD=2LAMB1\n",
      "Precission 0.74718 obtained for MVT=1 CT=0.85 OT=5 AD=2LAMB10\n",
      "Precission 0.746464 obtained for MVT=1 CT=0.85 OT=5 AD=2LAMB100\n",
      "Precission 0.7318279999999999 obtained for MVT=1 CT=0.85 OT=5 AD=3LAMB0.01\n",
      "Precission 0.732068 obtained for MVT=1 CT=0.85 OT=5 AD=3LAMB0.1\n",
      "Precission 0.732904 obtained for MVT=1 CT=0.85 OT=5 AD=3LAMB1\n",
      "Precission 0.73742 obtained for MVT=1 CT=0.85 OT=5 AD=3LAMB10\n",
      "Precission 0.7430800000000001 obtained for MVT=1 CT=0.85 OT=5 AD=3LAMB100\n"
     ]
    },
    {
     "data": {
      "text/plain": [
       "(0.7473719999999999, 1, 0.85, 2)"
      ]
     },
     "execution_count": 5,
     "metadata": {},
     "output_type": "execute_result"
    }
   ],
   "source": [
    "train_ridge_regression(y, tx)"
   ]
  },
  {
   "cell_type": "code",
   "execution_count": 5,
   "metadata": {},
   "outputs": [
    {
     "name": "stdout",
     "output_type": "stream",
     "text": [
      "Precission 0.7865719999999999 obtained for MVT=1 CT=0.85 OT=5.5 AD=2 LAMB=0.01\n",
      "Precission 0.78898 obtained for MVT=1 CT=0.85 OT=6.5 AD=2 LAMB=0.01\n",
      "Precission 0.789616 obtained for MVT=1 CT=0.85 OT=7.5 AD=2 LAMB=0.01\n",
      "Precission 0.787232 obtained for MVT=1 CT=0.875 OT=5.5 AD=2 LAMB=0.01\n",
      "Precission 0.7899 obtained for MVT=1 CT=0.875 OT=6.5 AD=2 LAMB=0.01\n",
      "Precission 0.790768 obtained for MVT=1 CT=0.875 OT=7.5 AD=2 LAMB=0.01\n",
      "Precission 0.7872999999999999 obtained for MVT=1 CT=0.9 OT=5.5 AD=2 LAMB=0.01\n",
      "Precission 0.789936 obtained for MVT=1 CT=0.9 OT=6.5 AD=2 LAMB=0.01\n",
      "Precission 0.791332 obtained for MVT=1 CT=0.9 OT=7.5 AD=2 LAMB=0.01\n",
      "Precission 0.789456 obtained for MVT=1 CT=9.25 OT=5.5 AD=2 LAMB=0.01\n",
      "Precission 0.7906719999999999 obtained for MVT=1 CT=9.25 OT=6.5 AD=2 LAMB=0.01\n",
      "Precission 0.793268 obtained for MVT=1 CT=9.25 OT=7.5 AD=2 LAMB=0.01\n"
     ]
    },
    {
     "data": {
      "text/plain": [
       "(0.793268, 1, 9.25, 2)"
      ]
     },
     "execution_count": 5,
     "metadata": {},
     "output_type": "execute_result"
    }
   ],
   "source": [
    "train_ridge_regression(y, tx)"
   ]
  },
  {
   "cell_type": "code",
   "execution_count": 5,
   "metadata": {},
   "outputs": [
    {
     "name": "stdout",
     "output_type": "stream",
     "text": [
      "Precission 0.7967 obtained for MVT=1 CT=1 OT=8 AD=2 LAMB=0.01\n",
      "Precission 0.7970080000000002 obtained for MVT=1 CT=1 OT=8.5 AD=2 LAMB=0.01\n",
      "Precission 0.7974840000000001 obtained for MVT=1 CT=1 OT=9 AD=2 LAMB=0.01\n"
     ]
    },
    {
     "data": {
      "text/plain": [
       "(0.7974840000000001, 1, 1, 2)"
      ]
     },
     "execution_count": 5,
     "metadata": {},
     "output_type": "execute_result"
    }
   ],
   "source": [
    "train_ridge_regression(y, tx)"
   ]
  },
  {
   "cell_type": "code",
   "execution_count": 5,
   "metadata": {},
   "outputs": [
    {
     "name": "stdout",
     "output_type": "stream",
     "text": [
      "Precission 0.7982119999999999 obtained for MVT=1 CT=1 OT=9.5 AD=2 LAMB=0.01\n",
      "Precission 0.7981960000000001 obtained for MVT=1 CT=1 OT=10.5 AD=2 LAMB=0.01\n",
      "Precission 0.798108 obtained for MVT=1 CT=1 OT=11.5 AD=2 LAMB=0.01\n"
     ]
    },
    {
     "data": {
      "text/plain": [
       "(0.7982119999999999, 1, 1, 9.5, 2)"
      ]
     },
     "execution_count": 5,
     "metadata": {},
     "output_type": "execute_result"
    }
   ],
   "source": [
    "train_ridge_regression(y, tx)"
   ]
  },
  {
   "cell_type": "code",
   "execution_count": 5,
   "metadata": {},
   "outputs": [
    {
     "name": "stdout",
     "output_type": "stream",
     "text": [
      "Precission 0.7981159999999999 obtained for MVT=1 CT=1 OT=10 AD=2 LAMB=0.01\n",
      "Precission 0.7990600000000001 obtained for MVT=1 CT=1 OT=10 AD=2 LAMB=0.1\n"
     ]
    },
    {
     "data": {
      "text/plain": [
       "(0.7990600000000001, 1, 1, 10, 2)"
      ]
     },
     "execution_count": 5,
     "metadata": {},
     "output_type": "execute_result"
    }
   ],
   "source": [
    "train_ridge_regression(y, tx)"
   ]
  },
  {
   "cell_type": "code",
   "execution_count": 5,
   "metadata": {},
   "outputs": [
    {
     "name": "stdout",
     "output_type": "stream",
     "text": [
      "Precission 0.7987400000000001 obtained for MVT=1 CT=1 OT=11.75 AD=2 LAMB=0.1\n",
      "Precission 0.7986519999999999 obtained for MVT=1 CT=1 OT=11.75 AD=2 LAMB=0.5\n"
     ]
    },
    {
     "ename": "KeyboardInterrupt",
     "evalue": "",
     "output_type": "error",
     "traceback": [
      "\u001b[1;31m---------------------------------------------------------------------------\u001b[0m",
      "\u001b[1;31mKeyboardInterrupt\u001b[0m                         Traceback (most recent call last)",
      "\u001b[1;32m<ipython-input-5-16d78fb92244>\u001b[0m in \u001b[0;36m<module>\u001b[1;34m\u001b[0m\n\u001b[1;32m----> 1\u001b[1;33m \u001b[0mtrain_ridge_regression\u001b[0m\u001b[1;33m(\u001b[0m\u001b[0my\u001b[0m\u001b[1;33m,\u001b[0m \u001b[0mtx\u001b[0m\u001b[1;33m)\u001b[0m\u001b[1;33m\u001b[0m\u001b[1;33m\u001b[0m\u001b[0m\n\u001b[0m",
      "\u001b[1;32m~\\Desktop\\ML\\ML\\Project 1\\scripts\\cross_validation.py\u001b[0m in \u001b[0;36mtrain_ridge_regression\u001b[1;34m(y, tx)\u001b[0m\n\u001b[0;32m    100\u001b[0m                     \u001b[1;32mfor\u001b[0m \u001b[0mlamb\u001b[0m \u001b[1;32min\u001b[0m \u001b[0mLAMBDAS\u001b[0m\u001b[1;33m:\u001b[0m\u001b[1;33m\u001b[0m\u001b[1;33m\u001b[0m\u001b[0m\n\u001b[0;32m    101\u001b[0m                         \u001b[1;31m# Here we have our data with some features dropped\u001b[0m\u001b[1;33m\u001b[0m\u001b[1;33m\u001b[0m\u001b[1;33m\u001b[0m\u001b[0m\n\u001b[1;32m--> 102\u001b[1;33m                         \u001b[0mp\u001b[0m \u001b[1;33m=\u001b[0m \u001b[0mcross_validation_RR\u001b[0m\u001b[1;33m(\u001b[0m\u001b[0my\u001b[0m\u001b[1;33m,\u001b[0m \u001b[0mtx\u001b[0m\u001b[1;33m,\u001b[0m \u001b[1;36m10\u001b[0m\u001b[1;33m,\u001b[0m \u001b[0mmvt\u001b[0m\u001b[1;33m,\u001b[0m \u001b[0mct\u001b[0m\u001b[1;33m,\u001b[0m \u001b[0mot\u001b[0m\u001b[1;33m,\u001b[0m \u001b[0mad\u001b[0m\u001b[1;33m,\u001b[0m\u001b[0mlamb\u001b[0m\u001b[1;33m)\u001b[0m\u001b[1;33m\u001b[0m\u001b[1;33m\u001b[0m\u001b[0m\n\u001b[0m\u001b[0;32m    103\u001b[0m                         \u001b[0mprint\u001b[0m\u001b[1;33m(\u001b[0m\u001b[1;34m'Precission '\u001b[0m\u001b[1;33m+\u001b[0m\u001b[0mstr\u001b[0m\u001b[1;33m(\u001b[0m\u001b[0mp\u001b[0m\u001b[1;33m)\u001b[0m\u001b[1;33m+\u001b[0m\u001b[1;34m' obtained for MVT='\u001b[0m\u001b[1;33m+\u001b[0m\u001b[0mstr\u001b[0m\u001b[1;33m(\u001b[0m\u001b[0mmvt\u001b[0m\u001b[1;33m)\u001b[0m\u001b[1;33m+\u001b[0m\u001b[1;34m' CT='\u001b[0m\u001b[1;33m+\u001b[0m\u001b[0mstr\u001b[0m\u001b[1;33m(\u001b[0m\u001b[0mct\u001b[0m\u001b[1;33m)\u001b[0m\u001b[1;33m+\u001b[0m\u001b[1;34m' OT='\u001b[0m\u001b[1;33m+\u001b[0m\u001b[0mstr\u001b[0m\u001b[1;33m(\u001b[0m\u001b[0mot\u001b[0m\u001b[1;33m)\u001b[0m\u001b[1;33m+\u001b[0m\u001b[1;34m' AD='\u001b[0m\u001b[1;33m+\u001b[0m\u001b[0mstr\u001b[0m\u001b[1;33m(\u001b[0m\u001b[0mad\u001b[0m\u001b[1;33m)\u001b[0m\u001b[1;33m+\u001b[0m \u001b[1;34m' LAMB='\u001b[0m\u001b[1;33m+\u001b[0m\u001b[0mstr\u001b[0m\u001b[1;33m(\u001b[0m\u001b[0mlamb\u001b[0m\u001b[1;33m)\u001b[0m\u001b[1;33m)\u001b[0m\u001b[1;33m\u001b[0m\u001b[1;33m\u001b[0m\u001b[0m\n\u001b[0;32m    104\u001b[0m \u001b[1;33m\u001b[0m\u001b[0m\n",
      "\u001b[1;32m~\\Desktop\\ML\\ML\\Project 1\\scripts\\cross_validation.py\u001b[0m in \u001b[0;36mcross_validation_RR\u001b[1;34m(y, tx, k, mvt, ct, ot, ad, lamb)\u001b[0m\n\u001b[0;32m    125\u001b[0m         \u001b[0mtx_test\u001b[0m  \u001b[1;33m=\u001b[0m \u001b[0mtx\u001b[0m\u001b[1;33m[\u001b[0m\u001b[0midxs_folds\u001b[0m\u001b[1;33m[\u001b[0m\u001b[0mi\u001b[0m\u001b[1;33m]\u001b[0m\u001b[1;33m]\u001b[0m\u001b[1;33m.\u001b[0m\u001b[0mcopy\u001b[0m\u001b[1;33m(\u001b[0m\u001b[1;33m)\u001b[0m\u001b[1;33m\u001b[0m\u001b[1;33m\u001b[0m\u001b[0m\n\u001b[0;32m    126\u001b[0m         \u001b[0my_test\u001b[0m   \u001b[1;33m=\u001b[0m \u001b[0my\u001b[0m\u001b[1;33m[\u001b[0m \u001b[0midxs_folds\u001b[0m\u001b[1;33m[\u001b[0m\u001b[0mi\u001b[0m\u001b[1;33m]\u001b[0m\u001b[1;33m]\u001b[0m\u001b[1;33m.\u001b[0m\u001b[0mcopy\u001b[0m\u001b[1;33m(\u001b[0m\u001b[1;33m)\u001b[0m\u001b[1;33m\u001b[0m\u001b[1;33m\u001b[0m\u001b[0m\n\u001b[1;32m--> 127\u001b[1;33m         \u001b[0mtx_train\u001b[0m \u001b[1;33m=\u001b[0m \u001b[0mtx\u001b[0m\u001b[1;33m[\u001b[0m\u001b[1;33m[\u001b[0m\u001b[0mj\u001b[0m \u001b[1;32mfor\u001b[0m \u001b[0mj\u001b[0m \u001b[1;32min\u001b[0m \u001b[0midxs\u001b[0m \u001b[1;32mif\u001b[0m \u001b[0mj\u001b[0m \u001b[1;32mnot\u001b[0m \u001b[1;32min\u001b[0m \u001b[0midxs_folds\u001b[0m\u001b[1;33m[\u001b[0m\u001b[0mi\u001b[0m\u001b[1;33m]\u001b[0m\u001b[1;33m]\u001b[0m\u001b[1;33m]\u001b[0m\u001b[1;33m.\u001b[0m\u001b[0mcopy\u001b[0m\u001b[1;33m(\u001b[0m\u001b[1;33m)\u001b[0m\u001b[1;33m\u001b[0m\u001b[1;33m\u001b[0m\u001b[0m\n\u001b[0m\u001b[0;32m    128\u001b[0m         \u001b[0my_train\u001b[0m  \u001b[1;33m=\u001b[0m \u001b[0my\u001b[0m\u001b[1;33m[\u001b[0m\u001b[1;33m[\u001b[0m \u001b[0mj\u001b[0m \u001b[1;32mfor\u001b[0m \u001b[0mj\u001b[0m \u001b[1;32min\u001b[0m \u001b[0midxs\u001b[0m \u001b[1;32mif\u001b[0m \u001b[0mj\u001b[0m \u001b[1;32mnot\u001b[0m \u001b[1;32min\u001b[0m \u001b[0midxs_folds\u001b[0m\u001b[1;33m[\u001b[0m\u001b[0mi\u001b[0m\u001b[1;33m]\u001b[0m\u001b[1;33m]\u001b[0m\u001b[1;33m]\u001b[0m\u001b[1;33m.\u001b[0m\u001b[0mcopy\u001b[0m\u001b[1;33m(\u001b[0m\u001b[1;33m)\u001b[0m\u001b[1;33m\u001b[0m\u001b[1;33m\u001b[0m\u001b[0m\n\u001b[0;32m    129\u001b[0m \u001b[1;33m\u001b[0m\u001b[0m\n",
      "\u001b[1;32m~\\Desktop\\ML\\ML\\Project 1\\scripts\\cross_validation.py\u001b[0m in \u001b[0;36m<listcomp>\u001b[1;34m(.0)\u001b[0m\n\u001b[0;32m    125\u001b[0m         \u001b[0mtx_test\u001b[0m  \u001b[1;33m=\u001b[0m \u001b[0mtx\u001b[0m\u001b[1;33m[\u001b[0m\u001b[0midxs_folds\u001b[0m\u001b[1;33m[\u001b[0m\u001b[0mi\u001b[0m\u001b[1;33m]\u001b[0m\u001b[1;33m]\u001b[0m\u001b[1;33m.\u001b[0m\u001b[0mcopy\u001b[0m\u001b[1;33m(\u001b[0m\u001b[1;33m)\u001b[0m\u001b[1;33m\u001b[0m\u001b[1;33m\u001b[0m\u001b[0m\n\u001b[0;32m    126\u001b[0m         \u001b[0my_test\u001b[0m   \u001b[1;33m=\u001b[0m \u001b[0my\u001b[0m\u001b[1;33m[\u001b[0m \u001b[0midxs_folds\u001b[0m\u001b[1;33m[\u001b[0m\u001b[0mi\u001b[0m\u001b[1;33m]\u001b[0m\u001b[1;33m]\u001b[0m\u001b[1;33m.\u001b[0m\u001b[0mcopy\u001b[0m\u001b[1;33m(\u001b[0m\u001b[1;33m)\u001b[0m\u001b[1;33m\u001b[0m\u001b[1;33m\u001b[0m\u001b[0m\n\u001b[1;32m--> 127\u001b[1;33m         \u001b[0mtx_train\u001b[0m \u001b[1;33m=\u001b[0m \u001b[0mtx\u001b[0m\u001b[1;33m[\u001b[0m\u001b[1;33m[\u001b[0m\u001b[0mj\u001b[0m \u001b[1;32mfor\u001b[0m \u001b[0mj\u001b[0m \u001b[1;32min\u001b[0m \u001b[0midxs\u001b[0m \u001b[1;32mif\u001b[0m \u001b[0mj\u001b[0m \u001b[1;32mnot\u001b[0m \u001b[1;32min\u001b[0m \u001b[0midxs_folds\u001b[0m\u001b[1;33m[\u001b[0m\u001b[0mi\u001b[0m\u001b[1;33m]\u001b[0m\u001b[1;33m]\u001b[0m\u001b[1;33m]\u001b[0m\u001b[1;33m.\u001b[0m\u001b[0mcopy\u001b[0m\u001b[1;33m(\u001b[0m\u001b[1;33m)\u001b[0m\u001b[1;33m\u001b[0m\u001b[1;33m\u001b[0m\u001b[0m\n\u001b[0m\u001b[0;32m    128\u001b[0m         \u001b[0my_train\u001b[0m  \u001b[1;33m=\u001b[0m \u001b[0my\u001b[0m\u001b[1;33m[\u001b[0m\u001b[1;33m[\u001b[0m \u001b[0mj\u001b[0m \u001b[1;32mfor\u001b[0m \u001b[0mj\u001b[0m \u001b[1;32min\u001b[0m \u001b[0midxs\u001b[0m \u001b[1;32mif\u001b[0m \u001b[0mj\u001b[0m \u001b[1;32mnot\u001b[0m \u001b[1;32min\u001b[0m \u001b[0midxs_folds\u001b[0m\u001b[1;33m[\u001b[0m\u001b[0mi\u001b[0m\u001b[1;33m]\u001b[0m\u001b[1;33m]\u001b[0m\u001b[1;33m]\u001b[0m\u001b[1;33m.\u001b[0m\u001b[0mcopy\u001b[0m\u001b[1;33m(\u001b[0m\u001b[1;33m)\u001b[0m\u001b[1;33m\u001b[0m\u001b[1;33m\u001b[0m\u001b[0m\n\u001b[0;32m    129\u001b[0m \u001b[1;33m\u001b[0m\u001b[0m\n",
      "\u001b[1;31mKeyboardInterrupt\u001b[0m: "
     ]
    }
   ],
   "source": [
    "train_ridge_regression(y, tx)"
   ]
  },
  {
   "cell_type": "code",
   "execution_count": 5,
   "metadata": {},
   "outputs": [
    {
     "name": "stdout",
     "output_type": "stream",
     "text": [
      "Precission 0.8039280000000002 obtained for MVT=1 CT=1 OT=10 AD=3 LAMB=0.1\n",
      "Precission 0.8092959999999998 obtained for MVT=1 CT=1 OT=10 AD=4 LAMB=0.1\n"
     ]
    },
    {
     "data": {
      "text/plain": [
       "(0.8092959999999998, 1, 1, 10, 4)"
      ]
     },
     "execution_count": 5,
     "metadata": {},
     "output_type": "execute_result"
    }
   ],
   "source": [
    "train_ridge_regression(y, tx)"
   ]
  },
  {
   "cell_type": "code",
   "execution_count": 6,
   "metadata": {},
   "outputs": [
    {
     "name": "stdout",
     "output_type": "stream",
     "text": [
      "Precission 0.8094680000000001 obtained for MVT=1 CT=1 OT=10 AD=4 LAMB=1\n"
     ]
    },
    {
     "data": {
      "text/plain": [
       "(0.8094680000000001, 1, 1, 10, 4)"
      ]
     },
     "execution_count": 6,
     "metadata": {},
     "output_type": "execute_result"
    }
   ],
   "source": [
    "train_ridge_regression(y, tx)"
   ]
  },
  {
   "cell_type": "code",
   "execution_count": 5,
   "metadata": {},
   "outputs": [
    {
     "name": "stdout",
     "output_type": "stream",
     "text": [
      "Precission 0.8053039999999999 obtained for MVT=1 CT=1 OT=10 AD=5 LAMB=1\n",
      "Precission 0.807 obtained for MVT=1 CT=1 OT=10 AD=5 LAMB=2\n",
      "Precission 0.8039359999999999 obtained for MVT=1 CT=1 OT=10 AD=6 LAMB=1\n",
      "Precission 0.8056920000000002 obtained for MVT=1 CT=1 OT=10 AD=6 LAMB=2\n"
     ]
    },
    {
     "data": {
      "text/plain": [
       "(0.807, 1, 1, 10, 5)"
      ]
     },
     "execution_count": 5,
     "metadata": {},
     "output_type": "execute_result"
    }
   ],
   "source": [
    "train_ridge_regression(y, tx)"
   ]
  },
  {
   "cell_type": "code",
   "execution_count": 10,
   "metadata": {},
   "outputs": [
    {
     "name": "stdout",
     "output_type": "stream",
     "text": [
      "Precission 0.809356 obtained for MVT=1 CT=1 OT=10 AD=4 LAMB=1\n"
     ]
    },
    {
     "data": {
      "text/plain": [
       "(0.809356, 1, 1, 10, 4)"
      ]
     },
     "execution_count": 10,
     "metadata": {},
     "output_type": "execute_result"
    }
   ],
   "source": [
    "# BEST PARAMETERS\n",
    "train_ridge_regression(y, tx)"
   ]
  },
  {
   "cell_type": "code",
   "execution_count": null,
   "metadata": {},
   "outputs": [],
   "source": []
  }
 ],
 "metadata": {
  "kernelspec": {
   "display_name": "Python 3",
   "language": "python",
   "name": "python3"
  },
  "language_info": {
   "codemirror_mode": {
    "name": "ipython",
    "version": 3
   },
   "file_extension": ".py",
   "mimetype": "text/x-python",
   "name": "python",
   "nbconvert_exporter": "python",
   "pygments_lexer": "ipython3",
   "version": "3.7.9"
  }
 },
 "nbformat": 4,
 "nbformat_minor": 4
}
