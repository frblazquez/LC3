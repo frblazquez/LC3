{
 "cells": [
  {
   "cell_type": "code",
   "execution_count": 1,
   "metadata": {},
   "outputs": [],
   "source": [
    "# Useful starting lines\n",
    "%matplotlib inline\n",
    "import numpy as np\n",
    "import matplotlib.pyplot as plt\n",
    "%load_ext autoreload\n",
    "%autoreload 2"
   ]
  },
  {
   "cell_type": "code",
   "execution_count": 2,
   "metadata": {},
   "outputs": [],
   "source": [
    "from proj1_helpers    import *\n",
    "from implementations  import *\n",
    "from preprocessing    import *\n",
    "from cross_validation import *"
   ]
  },
  {
   "cell_type": "code",
   "execution_count": 3,
   "metadata": {},
   "outputs": [],
   "source": [
    "DATA_TRAIN_PATH = '../data/train.csv'\n",
    "DATA_TEST_PATH  = '../data/test.csv'\n",
    "OUTPUT_PATH     = '../data/output.csv'"
   ]
  },
  {
   "cell_type": "markdown",
   "metadata": {},
   "source": [
    "## Load the training data into feature matrix, class labels, and event ids:"
   ]
  },
  {
   "cell_type": "code",
   "execution_count": 4,
   "metadata": {},
   "outputs": [],
   "source": [
    "# Get data from file\n",
    "y_train, tx_train, ids = load_csv_data(DATA_TRAIN_PATH)\n",
    "y_test,  tx_test, ids_test = load_csv_data(DATA_TEST_PATH)"
   ]
  },
  {
   "cell_type": "code",
   "execution_count": 5,
   "metadata": {},
   "outputs": [],
   "source": [
    "ct = 0.925\n",
    "ad = 4\n",
    "mvt= 1\n",
    "ot = 11"
   ]
  },
  {
   "cell_type": "code",
   "execution_count": 6,
   "metadata": {},
   "outputs": [],
   "source": [
    "corr_features = get_correlated_features(y_train, tx_train, ct)\n",
    "tx_train = np.delete(tx_train, corr_features, axis=1)  \n",
    "tx_test  = np.delete(tx_test,  corr_features, axis=1)    \n",
    "\n",
    "high_MV_freq_features = get_high_MV_freq_features(y_train, tx_train, mvt)\n",
    "tx_train = np.delete(tx_train, high_MV_freq_features, axis=1)\n",
    "tx_test  = np.delete(tx_test,  high_MV_freq_features, axis=1)\n",
    "  \n",
    "replace_MV_by_average(y_train, tx_train)# Shouldn't we remove y argument from those functions not needing it?\n",
    "replace_MV_by_average(y_test,  tx_test) # Shouldn't we replace MV in test set with average in train set?\n",
    "\n",
    "y_train, tx_train = remove_outliers(y_train, tx_train,ot)\n",
    "\n",
    "tx_train = feature_augmentation(y_train, tx_train, ad)\n",
    "tx_test  = feature_augmentation(y_test,  tx_test,  ad)  \n",
    "      \n",
    "tx_train = standarize(y_train, tx_train)\n",
    "tx_test  = standarize(y_test,  tx_test)\n",
    "        \n",
    "tx_train = np.c_[np.ones(tx_train.shape[0]), tx_train]\n",
    "tx_test  = np.c_[np.ones(tx_test.shape[ 0]), tx_test ]"
   ]
  },
  {
   "cell_type": "code",
   "execution_count": 7,
   "metadata": {
    "scrolled": true
   },
   "outputs": [],
   "source": [
    "#w, loss = least_squares_GD(y, tx, np.zeros(tx.shape[1]), 100, 0.01)\n",
    "#loss"
   ]
  },
  {
   "cell_type": "code",
   "execution_count": 8,
   "metadata": {
    "scrolled": false
   },
   "outputs": [],
   "source": [
    "#w, loss = least_squares_SGD(y, tx, np.zeros(tx.shape[1]), 100, 0.01)\n",
    "#loss"
   ]
  },
  {
   "cell_type": "code",
   "execution_count": 9,
   "metadata": {},
   "outputs": [
    {
     "data": {
      "text/plain": [
       "0.2841078287899307"
      ]
     },
     "execution_count": 9,
     "metadata": {},
     "output_type": "execute_result"
    }
   ],
   "source": [
    "w, loss = least_squares(y_train, tx_train)\n",
    "loss"
   ]
  },
  {
   "cell_type": "code",
   "execution_count": 10,
   "metadata": {},
   "outputs": [],
   "source": [
    "#w, loss = ridge_regression(y, tx,10)\n",
    "#loss"
   ]
  },
  {
   "cell_type": "markdown",
   "metadata": {},
   "source": [
    "## Generate predictions and save ouput in csv format for submission:"
   ]
  },
  {
   "cell_type": "code",
   "execution_count": 11,
   "metadata": {},
   "outputs": [],
   "source": [
    "y_pred = predict_labels(w, tx_test)\n",
    "create_csv_submission(ids_test, y_pred, OUTPUT_PATH)"
   ]
  },
  {
   "cell_type": "code",
   "execution_count": null,
   "metadata": {},
   "outputs": [],
   "source": []
  }
 ],
 "metadata": {
  "anaconda-cloud": {},
  "kernelspec": {
   "display_name": "Python 3",
   "language": "python",
   "name": "python3"
  },
  "language_info": {
   "codemirror_mode": {
    "name": "ipython",
    "version": 3
   },
   "file_extension": ".py",
   "mimetype": "text/x-python",
   "name": "python",
   "nbconvert_exporter": "python",
   "pygments_lexer": "ipython3",
   "version": "3.6.9"
  }
 },
 "nbformat": 4,
 "nbformat_minor": 1
}
