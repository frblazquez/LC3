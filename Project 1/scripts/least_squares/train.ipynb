{
 "cells": [
  {
   "cell_type": "code",
   "execution_count": 1,
   "metadata": {},
   "outputs": [],
   "source": [
    "import numpy  as np"
   ]
  },
  {
   "cell_type": "code",
   "execution_count": 2,
   "metadata": {},
   "outputs": [],
   "source": [
    "from proj1_helpers    import *\n",
    "from implementations  import *\n",
    "from preprocessing    import *\n",
    "from cross_validation import *"
   ]
  },
  {
   "cell_type": "code",
   "execution_count": 3,
   "metadata": {},
   "outputs": [],
   "source": [
    "DATA_TRAIN_PATH = '../data/train.csv'"
   ]
  },
  {
   "cell_type": "code",
   "execution_count": 4,
   "metadata": {},
   "outputs": [],
   "source": [
    "# Get data from file\n",
    "y, tx, ids = load_csv_data(DATA_TRAIN_PATH)"
   ]
  },
  {
   "cell_type": "markdown",
   "metadata": {},
   "source": [
    "##### Cross validation"
   ]
  },
  {
   "cell_type": "code",
   "execution_count": 5,
   "metadata": {
    "scrolled": true
   },
   "outputs": [
    {
     "name": "stdout",
     "output_type": "stream",
     "text": [
      "Precission 0.705176 obtained for MVT=0 CT=0.75 OT=3 AD=1\n",
      "Precission 0.727172 obtained for MVT=0 CT=0.75 OT=3 AD=2\n",
      "Precission 0.69962 obtained for MVT=0 CT=0.75 OT=3 AD=3\n",
      "Precission 0.7053360000000001 obtained for MVT=0 CT=0.75 OT=4 AD=1\n",
      "Precission 0.73256 obtained for MVT=0 CT=0.75 OT=4 AD=2\n",
      "Precission 0.711352 obtained for MVT=0 CT=0.75 OT=4 AD=3\n",
      "Precission 0.705568 obtained for MVT=0 CT=0.75 OT=5 AD=1\n",
      "Precission 0.734128 obtained for MVT=0 CT=0.75 OT=5 AD=2\n",
      "Precission 0.717568 obtained for MVT=0 CT=0.75 OT=5 AD=3\n",
      "Precission 0.706168 obtained for MVT=0 CT=0.75 OT=6 AD=1\n",
      "Precission 0.7347159999999999 obtained for MVT=0 CT=0.75 OT=6 AD=2\n",
      "Precission 0.7250439999999999 obtained for MVT=0 CT=0.75 OT=6 AD=3\n",
      "Precission 0.705928 obtained for MVT=0 CT=0.8 OT=3 AD=1\n",
      "Precission 0.7276360000000001 obtained for MVT=0 CT=0.8 OT=3 AD=2\n",
      "Precission 0.700656 obtained for MVT=0 CT=0.8 OT=3 AD=3\n",
      "Precission 0.705952 obtained for MVT=0 CT=0.8 OT=4 AD=1\n",
      "Precission 0.732104 obtained for MVT=0 CT=0.8 OT=4 AD=2\n",
      "Precission 0.7130240000000001 obtained for MVT=0 CT=0.8 OT=4 AD=3\n",
      "Precission 0.7061999999999999 obtained for MVT=0 CT=0.8 OT=5 AD=1\n",
      "Precission 0.7343759999999999 obtained for MVT=0 CT=0.8 OT=5 AD=2\n",
      "Precission 0.7195039999999999 obtained for MVT=0 CT=0.8 OT=5 AD=3\n",
      "Precission 0.706336 obtained for MVT=0 CT=0.8 OT=6 AD=1\n",
      "Precission 0.735608 obtained for MVT=0 CT=0.8 OT=6 AD=2\n",
      "Precission 0.7250160000000001 obtained for MVT=0 CT=0.8 OT=6 AD=3\n",
      "Precission 0.705856 obtained for MVT=0 CT=0.85 OT=3 AD=1\n",
      "Precission 0.727212 obtained for MVT=0 CT=0.85 OT=3 AD=2\n",
      "Precission 0.700512 obtained for MVT=0 CT=0.85 OT=3 AD=3\n",
      "Precission 0.7061439999999999 obtained for MVT=0 CT=0.85 OT=4 AD=1\n",
      "Precission 0.732644 obtained for MVT=0 CT=0.85 OT=4 AD=2\n",
      "Precission 0.709936 obtained for MVT=0 CT=0.85 OT=4 AD=3\n",
      "Precission 0.706408 obtained for MVT=0 CT=0.85 OT=5 AD=1\n",
      "Precission 0.7341599999999999 obtained for MVT=0 CT=0.85 OT=5 AD=2\n",
      "Precission 0.7191879999999999 obtained for MVT=0 CT=0.85 OT=5 AD=3\n",
      "Precission 0.7068040000000001 obtained for MVT=0 CT=0.85 OT=6 AD=1\n",
      "Precission 0.73498 obtained for MVT=0 CT=0.85 OT=6 AD=2\n",
      "Precission 0.7249480000000001 obtained for MVT=0 CT=0.85 OT=6 AD=3\n",
      "Precission 0.706348 obtained for MVT=0 CT=0.9 OT=3 AD=1\n",
      "Precission 0.728092 obtained for MVT=0 CT=0.9 OT=3 AD=2\n",
      "Precission 0.701888 obtained for MVT=0 CT=0.9 OT=3 AD=3\n",
      "Precission 0.7067840000000001 obtained for MVT=0 CT=0.9 OT=4 AD=1\n",
      "Precission 0.732912 obtained for MVT=0 CT=0.9 OT=4 AD=2\n",
      "Precission 0.7106600000000001 obtained for MVT=0 CT=0.9 OT=4 AD=3\n",
      "Precission 0.7068199999999999 obtained for MVT=0 CT=0.9 OT=5 AD=1\n",
      "Precission 0.7352719999999999 obtained for MVT=0 CT=0.9 OT=5 AD=2\n",
      "Precission 0.7200440000000001 obtained for MVT=0 CT=0.9 OT=5 AD=3\n",
      "Precission 0.707296 obtained for MVT=0 CT=0.9 OT=6 AD=1\n",
      "Precission 0.7363519999999999 obtained for MVT=0 CT=0.9 OT=6 AD=2\n",
      "Precission 0.727956 obtained for MVT=0 CT=0.9 OT=6 AD=3\n",
      "Precission 0.706436 obtained for MVT=0 CT=0.95 OT=3 AD=1\n",
      "Precission 0.7286600000000001 obtained for MVT=0 CT=0.95 OT=3 AD=2\n",
      "Precission 0.701976 obtained for MVT=0 CT=0.95 OT=3 AD=3\n",
      "Precission 0.706688 obtained for MVT=0 CT=0.95 OT=4 AD=1\n",
      "Precission 0.734172 obtained for MVT=0 CT=0.95 OT=4 AD=2\n",
      "Precission 0.71096 obtained for MVT=0 CT=0.95 OT=4 AD=3\n",
      "Precission 0.706892 obtained for MVT=0 CT=0.95 OT=5 AD=1\n",
      "Precission 0.735544 obtained for MVT=0 CT=0.95 OT=5 AD=2\n",
      "Precission 0.721184 obtained for MVT=0 CT=0.95 OT=5 AD=3\n",
      "Precission 0.7068920000000001 obtained for MVT=0 CT=0.95 OT=6 AD=1\n",
      "Precission 0.736868 obtained for MVT=0 CT=0.95 OT=6 AD=2\n",
      "Precission 0.726936 obtained for MVT=0 CT=0.95 OT=6 AD=3\n",
      "Precission 0.6400159999999999 obtained for MVT=0 CT=1 OT=3 AD=1\n",
      "Precission 0.49621200000000004 obtained for MVT=0 CT=1 OT=3 AD=2\n",
      "Precission 0.439364 obtained for MVT=0 CT=1 OT=3 AD=3\n",
      "Precission 0.6401399999999999 obtained for MVT=0 CT=1 OT=4 AD=1\n",
      "Precission 0.50206 obtained for MVT=0 CT=1 OT=4 AD=2\n",
      "Precission 0.375692 obtained for MVT=0 CT=1 OT=4 AD=3\n",
      "Precission 0.6272 obtained for MVT=0 CT=1 OT=5 AD=1\n",
      "Precission 0.503228 obtained for MVT=0 CT=1 OT=5 AD=2\n",
      "Precission 0.5428520000000001 obtained for MVT=0 CT=1 OT=5 AD=3\n",
      "Precission 0.6070599999999999 obtained for MVT=0 CT=1 OT=6 AD=1\n",
      "Precission 0.40701599999999993 obtained for MVT=0 CT=1 OT=6 AD=2\n",
      "Precission 0.5260800000000001 obtained for MVT=0 CT=1 OT=6 AD=3\n",
      "Precission 0.7036640000000001 obtained for MVT=0.25 CT=0.75 OT=3 AD=1\n",
      "Precission 0.73472 obtained for MVT=0.25 CT=0.75 OT=3 AD=2\n",
      "Precission 0.7155799999999999 obtained for MVT=0.25 CT=0.75 OT=3 AD=3\n",
      "Precission 0.7049920000000001 obtained for MVT=0.25 CT=0.75 OT=4 AD=1\n",
      "Precission 0.737688 obtained for MVT=0.25 CT=0.75 OT=4 AD=2\n",
      "Precission 0.721408 obtained for MVT=0.25 CT=0.75 OT=4 AD=3\n",
      "Precission 0.7056720000000001 obtained for MVT=0.25 CT=0.75 OT=5 AD=1\n",
      "Precission 0.7381960000000001 obtained for MVT=0.25 CT=0.75 OT=5 AD=2\n",
      "Precission 0.72688 obtained for MVT=0.25 CT=0.75 OT=5 AD=3\n",
      "Precission 0.706176 obtained for MVT=0.25 CT=0.75 OT=6 AD=1\n",
      "Precission 0.73894 obtained for MVT=0.25 CT=0.75 OT=6 AD=2\n",
      "Precission 0.731672 obtained for MVT=0.25 CT=0.75 OT=6 AD=3\n",
      "Precission 0.704252 obtained for MVT=0.25 CT=0.8 OT=3 AD=1\n",
      "Precission 0.735244 obtained for MVT=0.25 CT=0.8 OT=3 AD=2\n",
      "Precission 0.714336 obtained for MVT=0.25 CT=0.8 OT=3 AD=3\n",
      "Precission 0.70552 obtained for MVT=0.25 CT=0.8 OT=4 AD=1\n",
      "Precission 0.7380519999999999 obtained for MVT=0.25 CT=0.8 OT=4 AD=2\n",
      "Precission 0.719228 obtained for MVT=0.25 CT=0.8 OT=4 AD=3\n",
      "Precission 0.7059280000000001 obtained for MVT=0.25 CT=0.8 OT=5 AD=1\n",
      "Precission 0.739096 obtained for MVT=0.25 CT=0.8 OT=5 AD=2\n",
      "Precission 0.726972 obtained for MVT=0.25 CT=0.8 OT=5 AD=3\n",
      "Precission 0.706652 obtained for MVT=0.25 CT=0.8 OT=6 AD=1\n",
      "Precission 0.73876 obtained for MVT=0.25 CT=0.8 OT=6 AD=2\n",
      "Precission 0.73158 obtained for MVT=0.25 CT=0.8 OT=6 AD=3\n",
      "Precission 0.70446 obtained for MVT=0.25 CT=0.85 OT=3 AD=1\n",
      "Precission 0.7344 obtained for MVT=0.25 CT=0.85 OT=3 AD=2\n",
      "Precission 0.7127839999999999 obtained for MVT=0.25 CT=0.85 OT=3 AD=3\n",
      "Precission 0.7056319999999999 obtained for MVT=0.25 CT=0.85 OT=4 AD=1\n",
      "Precission 0.73806 obtained for MVT=0.25 CT=0.85 OT=4 AD=2\n",
      "Precission 0.7205320000000001 obtained for MVT=0.25 CT=0.85 OT=4 AD=3\n",
      "Precission 0.706452 obtained for MVT=0.25 CT=0.85 OT=5 AD=1\n",
      "Precission 0.7386440000000001 obtained for MVT=0.25 CT=0.85 OT=5 AD=2\n",
      "Precission 0.7267440000000001 obtained for MVT=0.25 CT=0.85 OT=5 AD=3\n",
      "Precission 0.7067439999999999 obtained for MVT=0.25 CT=0.85 OT=6 AD=1\n",
      "Precission 0.7388600000000001 obtained for MVT=0.25 CT=0.85 OT=6 AD=2\n",
      "Precission 0.731508 obtained for MVT=0.25 CT=0.85 OT=6 AD=3\n",
      "Precission 0.704508 obtained for MVT=0.25 CT=0.9 OT=3 AD=1\n",
      "Precission 0.735392 obtained for MVT=0.25 CT=0.9 OT=3 AD=2\n",
      "Precission 0.714176 obtained for MVT=0.25 CT=0.9 OT=3 AD=3\n",
      "Precission 0.706304 obtained for MVT=0.25 CT=0.9 OT=4 AD=1\n",
      "Precission 0.7387520000000001 obtained for MVT=0.25 CT=0.9 OT=4 AD=2\n",
      "Precission 0.720552 obtained for MVT=0.25 CT=0.9 OT=4 AD=3\n",
      "Precission 0.707048 obtained for MVT=0.25 CT=0.9 OT=5 AD=1\n",
      "Precission 0.739908 obtained for MVT=0.25 CT=0.9 OT=5 AD=2\n",
      "Precission 0.7281200000000001 obtained for MVT=0.25 CT=0.9 OT=5 AD=3\n",
      "Precission 0.70712 obtained for MVT=0.25 CT=0.9 OT=6 AD=1\n",
      "Precission 0.7399039999999999 obtained for MVT=0.25 CT=0.9 OT=6 AD=2\n",
      "Precission 0.732128 obtained for MVT=0.25 CT=0.9 OT=6 AD=3\n",
      "Precission 0.70464 obtained for MVT=0.25 CT=0.95 OT=3 AD=1\n",
      "Precission 0.734908 obtained for MVT=0.25 CT=0.95 OT=3 AD=2\n",
      "Precission 0.714196 obtained for MVT=0.25 CT=0.95 OT=3 AD=3\n",
      "Precission 0.706228 obtained for MVT=0.25 CT=0.95 OT=4 AD=1\n",
      "Precission 0.7390680000000001 obtained for MVT=0.25 CT=0.95 OT=4 AD=2\n",
      "Precission 0.7215239999999999 obtained for MVT=0.25 CT=0.95 OT=4 AD=3\n",
      "Precission 0.706592 obtained for MVT=0.25 CT=0.95 OT=5 AD=1\n",
      "Precission 0.7402599999999999 obtained for MVT=0.25 CT=0.95 OT=5 AD=2\n",
      "Precission 0.7287560000000001 obtained for MVT=0.25 CT=0.95 OT=5 AD=3\n",
      "Precission 0.70692 obtained for MVT=0.25 CT=0.95 OT=6 AD=1\n",
      "Precission 0.7405120000000001 obtained for MVT=0.25 CT=0.95 OT=6 AD=2\n",
      "Precission 0.7334799999999999 obtained for MVT=0.25 CT=0.95 OT=6 AD=3\n",
      "Precission 0.61416 obtained for MVT=0.25 CT=1 OT=3 AD=1\n",
      "Precission 0.49603600000000003 obtained for MVT=0.25 CT=1 OT=3 AD=2\n"
     ]
    },
    {
     "name": "stdout",
     "output_type": "stream",
     "text": [
      "Precission 0.5309799999999999 obtained for MVT=0.25 CT=1 OT=3 AD=3\n",
      "Precission 0.6400239999999999 obtained for MVT=0.25 CT=1 OT=4 AD=1\n",
      "Precission 0.5532519999999999 obtained for MVT=0.25 CT=1 OT=4 AD=2\n",
      "Precission 0.4143 obtained for MVT=0.25 CT=1 OT=4 AD=3\n",
      "Precission 0.6241160000000001 obtained for MVT=0.25 CT=1 OT=5 AD=1\n",
      "Precission 0.412528 obtained for MVT=0.25 CT=1 OT=5 AD=2\n",
      "Precission 0.40632 obtained for MVT=0.25 CT=1 OT=5 AD=3\n",
      "Precission 0.609168 obtained for MVT=0.25 CT=1 OT=6 AD=1\n",
      "Precission 0.47749600000000003 obtained for MVT=0.25 CT=1 OT=6 AD=2\n",
      "Precission 0.4337079999999999 obtained for MVT=0.25 CT=1 OT=6 AD=3\n",
      "Precission 0.7045919999999999 obtained for MVT=0.5 CT=0.75 OT=3 AD=1\n",
      "Precission 0.73418 obtained for MVT=0.5 CT=0.75 OT=3 AD=2\n",
      "Precission 0.7118399999999999 obtained for MVT=0.5 CT=0.75 OT=3 AD=3\n",
      "Precission 0.7060919999999999 obtained for MVT=0.5 CT=0.75 OT=4 AD=1\n",
      "Precission 0.738644 obtained for MVT=0.5 CT=0.75 OT=4 AD=2\n",
      "Precission 0.7188960000000001 obtained for MVT=0.5 CT=0.75 OT=4 AD=3\n",
      "Precission 0.706944 obtained for MVT=0.5 CT=0.75 OT=5 AD=1\n",
      "Precission 0.739208 obtained for MVT=0.5 CT=0.75 OT=5 AD=2\n",
      "Precission 0.7274079999999999 obtained for MVT=0.5 CT=0.75 OT=5 AD=3\n",
      "Precission 0.707348 obtained for MVT=0.5 CT=0.75 OT=6 AD=1\n",
      "Precission 0.739208 obtained for MVT=0.5 CT=0.75 OT=6 AD=2\n",
      "Precission 0.73306 obtained for MVT=0.5 CT=0.75 OT=6 AD=3\n",
      "Precission 0.70468 obtained for MVT=0.5 CT=0.8 OT=3 AD=1\n",
      "Precission 0.7343679999999999 obtained for MVT=0.5 CT=0.8 OT=3 AD=2\n",
      "Precission 0.711632 obtained for MVT=0.5 CT=0.8 OT=3 AD=3\n",
      "Precission 0.706444 obtained for MVT=0.5 CT=0.8 OT=4 AD=1\n",
      "Precission 0.73892 obtained for MVT=0.5 CT=0.8 OT=4 AD=2\n",
      "Precission 0.719496 obtained for MVT=0.5 CT=0.8 OT=4 AD=3\n",
      "Precission 0.7073 obtained for MVT=0.5 CT=0.8 OT=5 AD=1\n",
      "Precission 0.7400720000000001 obtained for MVT=0.5 CT=0.8 OT=5 AD=2\n",
      "Precission 0.727112 obtained for MVT=0.5 CT=0.8 OT=5 AD=3\n",
      "Precission 0.70774 obtained for MVT=0.5 CT=0.8 OT=6 AD=1\n",
      "Precission 0.740048 obtained for MVT=0.5 CT=0.8 OT=6 AD=2\n",
      "Precission 0.7327679999999999 obtained for MVT=0.5 CT=0.8 OT=6 AD=3\n",
      "Precission 0.7045399999999999 obtained for MVT=0.5 CT=0.85 OT=3 AD=1\n",
      "Precission 0.733984 obtained for MVT=0.5 CT=0.85 OT=3 AD=2\n",
      "Precission 0.710028 obtained for MVT=0.5 CT=0.85 OT=3 AD=3\n",
      "Precission 0.7064119999999999 obtained for MVT=0.5 CT=0.85 OT=4 AD=1\n",
      "Precission 0.739072 obtained for MVT=0.5 CT=0.85 OT=4 AD=2\n",
      "Precission 0.718636 obtained for MVT=0.5 CT=0.85 OT=4 AD=3\n",
      "Precission 0.7070519999999999 obtained for MVT=0.5 CT=0.85 OT=5 AD=1\n",
      "Precission 0.7394360000000001 obtained for MVT=0.5 CT=0.85 OT=5 AD=2\n",
      "Precission 0.72594 obtained for MVT=0.5 CT=0.85 OT=5 AD=3\n",
      "Precission 0.707696 obtained for MVT=0.5 CT=0.85 OT=6 AD=1\n",
      "Precission 0.739584 obtained for MVT=0.5 CT=0.85 OT=6 AD=2\n",
      "Precission 0.73142 obtained for MVT=0.5 CT=0.85 OT=6 AD=3\n",
      "Precission 0.7048599999999999 obtained for MVT=0.5 CT=0.9 OT=3 AD=1\n",
      "Precission 0.735044 obtained for MVT=0.5 CT=0.9 OT=3 AD=2\n",
      "Precission 0.7013800000000001 obtained for MVT=0.5 CT=0.9 OT=3 AD=3\n",
      "Precission 0.706452 obtained for MVT=0.5 CT=0.9 OT=4 AD=1\n",
      "Precission 0.74124 obtained for MVT=0.5 CT=0.9 OT=4 AD=2\n",
      "Precission 0.7142760000000001 obtained for MVT=0.5 CT=0.9 OT=4 AD=3\n",
      "Precission 0.70692 obtained for MVT=0.5 CT=0.9 OT=5 AD=1\n",
      "Precission 0.7416240000000001 obtained for MVT=0.5 CT=0.9 OT=5 AD=2\n",
      "Precission 0.7258359999999999 obtained for MVT=0.5 CT=0.9 OT=5 AD=3\n",
      "Precission 0.70712 obtained for MVT=0.5 CT=0.9 OT=6 AD=1\n",
      "Precission 0.741752 obtained for MVT=0.5 CT=0.9 OT=6 AD=2\n",
      "Precission 0.733308 obtained for MVT=0.5 CT=0.9 OT=6 AD=3\n",
      "Precission 0.70464 obtained for MVT=0.5 CT=0.95 OT=3 AD=1\n",
      "Precission 0.735444 obtained for MVT=0.5 CT=0.95 OT=3 AD=2\n",
      "Precission 0.701068 obtained for MVT=0.5 CT=0.95 OT=3 AD=3\n",
      "Precission 0.706244 obtained for MVT=0.5 CT=0.95 OT=4 AD=1\n",
      "Precission 0.740708 obtained for MVT=0.5 CT=0.95 OT=4 AD=2\n",
      "Precission 0.71716 obtained for MVT=0.5 CT=0.95 OT=4 AD=3\n",
      "Precission 0.7068 obtained for MVT=0.5 CT=0.95 OT=5 AD=1\n",
      "Precission 0.742004 obtained for MVT=0.5 CT=0.95 OT=5 AD=2\n",
      "Precission 0.72602 obtained for MVT=0.5 CT=0.95 OT=5 AD=3\n",
      "Precission 0.707028 obtained for MVT=0.5 CT=0.95 OT=6 AD=1\n",
      "Precission 0.742032 obtained for MVT=0.5 CT=0.95 OT=6 AD=2\n",
      "Precission 0.733868 obtained for MVT=0.5 CT=0.95 OT=6 AD=3\n",
      "Precission 0.6404719999999999 obtained for MVT=0.5 CT=1 OT=3 AD=1\n",
      "Precission 0.500584 obtained for MVT=0.5 CT=1 OT=3 AD=2\n",
      "Precission 0.54342 obtained for MVT=0.5 CT=1 OT=3 AD=3\n",
      "Precission 0.61858 obtained for MVT=0.5 CT=1 OT=4 AD=1\n",
      "Precission 0.39010799999999995 obtained for MVT=0.5 CT=1 OT=4 AD=2\n",
      "Precission 0.460968 obtained for MVT=0.5 CT=1 OT=4 AD=3\n",
      "Precission 0.588108 obtained for MVT=0.5 CT=1 OT=5 AD=1\n",
      "Precission 0.406604 obtained for MVT=0.5 CT=1 OT=5 AD=2\n",
      "Precission 0.5106919999999999 obtained for MVT=0.5 CT=1 OT=5 AD=3\n",
      "Precission 0.6201 obtained for MVT=0.5 CT=1 OT=6 AD=1\n",
      "Precission 0.398152 obtained for MVT=0.5 CT=1 OT=6 AD=2\n",
      "Precission 0.45151199999999997 obtained for MVT=0.5 CT=1 OT=6 AD=3\n",
      "Precission 0.7113240000000001 obtained for MVT=0.75 CT=0.75 OT=3 AD=1\n",
      "Precission 0.7403360000000001 obtained for MVT=0.75 CT=0.75 OT=3 AD=2\n",
      "Precission 0.715604 obtained for MVT=0.75 CT=0.75 OT=3 AD=3\n",
      "Precission 0.714316 obtained for MVT=0.75 CT=0.75 OT=4 AD=1\n",
      "Precission 0.744744 obtained for MVT=0.75 CT=0.75 OT=4 AD=2\n",
      "Precission 0.7255640000000001 obtained for MVT=0.75 CT=0.75 OT=4 AD=3\n",
      "Precission 0.71546 obtained for MVT=0.75 CT=0.75 OT=5 AD=1\n",
      "Precission 0.746656 obtained for MVT=0.75 CT=0.75 OT=5 AD=2\n",
      "Precission 0.7335800000000001 obtained for MVT=0.75 CT=0.75 OT=5 AD=3\n",
      "Precission 0.716192 obtained for MVT=0.75 CT=0.75 OT=6 AD=1\n",
      "Precission 0.746556 obtained for MVT=0.75 CT=0.75 OT=6 AD=2\n",
      "Precission 0.738872 obtained for MVT=0.75 CT=0.75 OT=6 AD=3\n",
      "Precission 0.71154 obtained for MVT=0.75 CT=0.8 OT=3 AD=1\n",
      "Precission 0.739888 obtained for MVT=0.75 CT=0.8 OT=3 AD=2\n",
      "Precission 0.715492 obtained for MVT=0.75 CT=0.8 OT=3 AD=3\n",
      "Precission 0.7144440000000001 obtained for MVT=0.75 CT=0.8 OT=4 AD=1\n",
      "Precission 0.7451079999999999 obtained for MVT=0.75 CT=0.8 OT=4 AD=2\n",
      "Precission 0.7251000000000001 obtained for MVT=0.75 CT=0.8 OT=4 AD=3\n",
      "Precission 0.715568 obtained for MVT=0.75 CT=0.8 OT=5 AD=1\n",
      "Precission 0.7472000000000001 obtained for MVT=0.75 CT=0.8 OT=5 AD=2\n",
      "Precission 0.73334 obtained for MVT=0.75 CT=0.8 OT=5 AD=3\n",
      "Precission 0.716128 obtained for MVT=0.75 CT=0.8 OT=6 AD=1\n",
      "Precission 0.74712 obtained for MVT=0.75 CT=0.8 OT=6 AD=2\n",
      "Precission 0.739048 obtained for MVT=0.75 CT=0.8 OT=6 AD=3\n",
      "Precission 0.7115880000000001 obtained for MVT=0.75 CT=0.85 OT=3 AD=1\n",
      "Precission 0.738788 obtained for MVT=0.75 CT=0.85 OT=3 AD=2\n",
      "Precission 0.71112 obtained for MVT=0.75 CT=0.85 OT=3 AD=3\n",
      "Precission 0.714124 obtained for MVT=0.75 CT=0.85 OT=4 AD=1\n",
      "Precission 0.7452719999999999 obtained for MVT=0.75 CT=0.85 OT=4 AD=2\n",
      "Precission 0.723868 obtained for MVT=0.75 CT=0.85 OT=4 AD=3\n",
      "Precission 0.7154679999999999 obtained for MVT=0.75 CT=0.85 OT=5 AD=1\n",
      "Precission 0.747016 obtained for MVT=0.75 CT=0.85 OT=5 AD=2\n",
      "Precission 0.732972 obtained for MVT=0.75 CT=0.85 OT=5 AD=3\n",
      "Precission 0.71598 obtained for MVT=0.75 CT=0.85 OT=6 AD=1\n",
      "Precission 0.74722 obtained for MVT=0.75 CT=0.85 OT=6 AD=2\n",
      "Precission 0.7397599999999999 obtained for MVT=0.75 CT=0.85 OT=6 AD=3\n",
      "Precission 0.7119279999999999 obtained for MVT=0.75 CT=0.9 OT=3 AD=1\n",
      "Precission 0.73612 obtained for MVT=0.75 CT=0.9 OT=3 AD=2\n",
      "Precission 0.7100839999999999 obtained for MVT=0.75 CT=0.9 OT=3 AD=3\n",
      "Precission 0.714668 obtained for MVT=0.75 CT=0.9 OT=4 AD=1\n",
      "Precission 0.7471120000000001 obtained for MVT=0.75 CT=0.9 OT=4 AD=2\n",
      "Precission 0.722788 obtained for MVT=0.75 CT=0.9 OT=4 AD=3\n",
      "Precission 0.715844 obtained for MVT=0.75 CT=0.9 OT=5 AD=1\n",
      "Precission 0.748844 obtained for MVT=0.75 CT=0.9 OT=5 AD=2\n",
      "Precission 0.7338799999999999 obtained for MVT=0.75 CT=0.9 OT=5 AD=3\n",
      "Precission 0.7164 obtained for MVT=0.75 CT=0.9 OT=6 AD=1\n",
      "Precission 0.7490359999999999 obtained for MVT=0.75 CT=0.9 OT=6 AD=2\n",
      "Precission 0.741412 obtained for MVT=0.75 CT=0.9 OT=6 AD=3\n",
      "Precission 0.712484 obtained for MVT=0.75 CT=0.95 OT=3 AD=1\n",
      "Precission 0.7190960000000001 obtained for MVT=0.75 CT=0.95 OT=3 AD=2\n",
      "Precission 0.6853 obtained for MVT=0.75 CT=0.95 OT=3 AD=3\n"
     ]
    },
    {
     "name": "stdout",
     "output_type": "stream",
     "text": [
      "Precission 0.714948 obtained for MVT=0.75 CT=0.95 OT=4 AD=1\n",
      "Precission 0.744836 obtained for MVT=0.75 CT=0.95 OT=4 AD=2\n",
      "Precission 0.7148999999999999 obtained for MVT=0.75 CT=0.95 OT=4 AD=3\n",
      "Precission 0.7160759999999999 obtained for MVT=0.75 CT=0.95 OT=5 AD=1\n",
      "Precission 0.7496240000000001 obtained for MVT=0.75 CT=0.95 OT=5 AD=2\n",
      "Precission 0.7291559999999999 obtained for MVT=0.75 CT=0.95 OT=5 AD=3\n",
      "Precission 0.716808 obtained for MVT=0.75 CT=0.95 OT=6 AD=1\n",
      "Precission 0.750316 obtained for MVT=0.75 CT=0.95 OT=6 AD=2\n",
      "Precission 0.738652 obtained for MVT=0.75 CT=0.95 OT=6 AD=3\n",
      "Precission 0.6471680000000001 obtained for MVT=0.75 CT=1 OT=3 AD=1\n"
     ]
    },
    {
     "ename": "KeyboardInterrupt",
     "evalue": "",
     "output_type": "error",
     "traceback": [
      "\u001b[0;31m---------------------------------------------------------------------------\u001b[0m",
      "\u001b[0;31mKeyboardInterrupt\u001b[0m                         Traceback (most recent call last)",
      "\u001b[0;32m<ipython-input-5-31ace7d05e2c>\u001b[0m in \u001b[0;36m<module>\u001b[0;34m\u001b[0m\n\u001b[0;32m----> 1\u001b[0;31m \u001b[0mtrain_least_squares\u001b[0m\u001b[0;34m(\u001b[0m\u001b[0my\u001b[0m\u001b[0;34m,\u001b[0m \u001b[0mtx\u001b[0m\u001b[0;34m)\u001b[0m\u001b[0;34m\u001b[0m\u001b[0;34m\u001b[0m\u001b[0m\n\u001b[0m",
      "\u001b[0;32m~/Documentos/Universidad/5º Carrera/Machine Learning/Projects/Project 1/scripts/cross_validation.py\u001b[0m in \u001b[0;36mtrain_least_squares\u001b[0;34m(y, tx)\u001b[0m\n\u001b[1;32m     25\u001b[0m                 \u001b[0;32mfor\u001b[0m \u001b[0mad\u001b[0m \u001b[0;32min\u001b[0m \u001b[0mAUGMENTATION_DEGREES\u001b[0m\u001b[0;34m:\u001b[0m\u001b[0;34m\u001b[0m\u001b[0;34m\u001b[0m\u001b[0m\n\u001b[1;32m     26\u001b[0m                     \u001b[0;31m# Here we have our data with some features dropped\u001b[0m\u001b[0;34m\u001b[0m\u001b[0;34m\u001b[0m\u001b[0;34m\u001b[0m\u001b[0m\n\u001b[0;32m---> 27\u001b[0;31m                     \u001b[0mp\u001b[0m \u001b[0;34m=\u001b[0m \u001b[0mcross_validation\u001b[0m\u001b[0;34m(\u001b[0m\u001b[0my\u001b[0m\u001b[0;34m,\u001b[0m \u001b[0mtx\u001b[0m\u001b[0;34m,\u001b[0m \u001b[0;36m5\u001b[0m\u001b[0;34m,\u001b[0m \u001b[0mmvt\u001b[0m\u001b[0;34m,\u001b[0m \u001b[0mct\u001b[0m\u001b[0;34m,\u001b[0m \u001b[0mot\u001b[0m\u001b[0;34m,\u001b[0m \u001b[0mad\u001b[0m\u001b[0;34m)\u001b[0m\u001b[0;34m\u001b[0m\u001b[0;34m\u001b[0m\u001b[0m\n\u001b[0m\u001b[1;32m     28\u001b[0m                     \u001b[0mprint\u001b[0m\u001b[0;34m(\u001b[0m\u001b[0;34m'Precission '\u001b[0m\u001b[0;34m+\u001b[0m\u001b[0mstr\u001b[0m\u001b[0;34m(\u001b[0m\u001b[0mp\u001b[0m\u001b[0;34m)\u001b[0m\u001b[0;34m+\u001b[0m\u001b[0;34m' obtained for MVT='\u001b[0m\u001b[0;34m+\u001b[0m\u001b[0mstr\u001b[0m\u001b[0;34m(\u001b[0m\u001b[0mmvt\u001b[0m\u001b[0;34m)\u001b[0m\u001b[0;34m+\u001b[0m\u001b[0;34m' CT='\u001b[0m\u001b[0;34m+\u001b[0m\u001b[0mstr\u001b[0m\u001b[0;34m(\u001b[0m\u001b[0mct\u001b[0m\u001b[0;34m)\u001b[0m\u001b[0;34m+\u001b[0m\u001b[0;34m' OT='\u001b[0m\u001b[0;34m+\u001b[0m\u001b[0mstr\u001b[0m\u001b[0;34m(\u001b[0m\u001b[0mot\u001b[0m\u001b[0;34m)\u001b[0m\u001b[0;34m+\u001b[0m\u001b[0;34m' AD='\u001b[0m\u001b[0;34m+\u001b[0m\u001b[0mstr\u001b[0m\u001b[0;34m(\u001b[0m\u001b[0mad\u001b[0m\u001b[0;34m)\u001b[0m\u001b[0;34m)\u001b[0m\u001b[0;34m\u001b[0m\u001b[0;34m\u001b[0m\u001b[0m\n\u001b[1;32m     29\u001b[0m \u001b[0;34m\u001b[0m\u001b[0m\n",
      "\u001b[0;32m~/Documentos/Universidad/5º Carrera/Machine Learning/Projects/Project 1/scripts/cross_validation.py\u001b[0m in \u001b[0;36mcross_validation\u001b[0;34m(y, tx, k, mvt, ct, ot, ad)\u001b[0m\n\u001b[1;32m     50\u001b[0m         \u001b[0mtx_test\u001b[0m  \u001b[0;34m=\u001b[0m \u001b[0mtx\u001b[0m\u001b[0;34m[\u001b[0m\u001b[0midxs_folds\u001b[0m\u001b[0;34m[\u001b[0m\u001b[0mi\u001b[0m\u001b[0;34m]\u001b[0m\u001b[0;34m]\u001b[0m\u001b[0;34m.\u001b[0m\u001b[0mcopy\u001b[0m\u001b[0;34m(\u001b[0m\u001b[0;34m)\u001b[0m\u001b[0;34m\u001b[0m\u001b[0;34m\u001b[0m\u001b[0m\n\u001b[1;32m     51\u001b[0m         \u001b[0my_test\u001b[0m   \u001b[0;34m=\u001b[0m \u001b[0my\u001b[0m\u001b[0;34m[\u001b[0m \u001b[0midxs_folds\u001b[0m\u001b[0;34m[\u001b[0m\u001b[0mi\u001b[0m\u001b[0;34m]\u001b[0m\u001b[0;34m]\u001b[0m\u001b[0;34m.\u001b[0m\u001b[0mcopy\u001b[0m\u001b[0;34m(\u001b[0m\u001b[0;34m)\u001b[0m\u001b[0;34m\u001b[0m\u001b[0;34m\u001b[0m\u001b[0m\n\u001b[0;32m---> 52\u001b[0;31m         \u001b[0mtx_train\u001b[0m \u001b[0;34m=\u001b[0m \u001b[0mtx\u001b[0m\u001b[0;34m[\u001b[0m\u001b[0;34m[\u001b[0m\u001b[0mj\u001b[0m \u001b[0;32mfor\u001b[0m \u001b[0mj\u001b[0m \u001b[0;32min\u001b[0m \u001b[0midxs\u001b[0m \u001b[0;32mif\u001b[0m \u001b[0mj\u001b[0m \u001b[0;32mnot\u001b[0m \u001b[0;32min\u001b[0m \u001b[0midxs_folds\u001b[0m\u001b[0;34m[\u001b[0m\u001b[0mi\u001b[0m\u001b[0;34m]\u001b[0m\u001b[0;34m]\u001b[0m\u001b[0;34m]\u001b[0m\u001b[0;34m.\u001b[0m\u001b[0mcopy\u001b[0m\u001b[0;34m(\u001b[0m\u001b[0;34m)\u001b[0m\u001b[0;34m\u001b[0m\u001b[0;34m\u001b[0m\u001b[0m\n\u001b[0m\u001b[1;32m     53\u001b[0m         \u001b[0my_train\u001b[0m  \u001b[0;34m=\u001b[0m \u001b[0my\u001b[0m\u001b[0;34m[\u001b[0m\u001b[0;34m[\u001b[0m \u001b[0mj\u001b[0m \u001b[0;32mfor\u001b[0m \u001b[0mj\u001b[0m \u001b[0;32min\u001b[0m \u001b[0midxs\u001b[0m \u001b[0;32mif\u001b[0m \u001b[0mj\u001b[0m \u001b[0;32mnot\u001b[0m \u001b[0;32min\u001b[0m \u001b[0midxs_folds\u001b[0m\u001b[0;34m[\u001b[0m\u001b[0mi\u001b[0m\u001b[0;34m]\u001b[0m\u001b[0;34m]\u001b[0m\u001b[0;34m]\u001b[0m\u001b[0;34m.\u001b[0m\u001b[0mcopy\u001b[0m\u001b[0;34m(\u001b[0m\u001b[0;34m)\u001b[0m\u001b[0;34m\u001b[0m\u001b[0;34m\u001b[0m\u001b[0m\n\u001b[1;32m     54\u001b[0m \u001b[0;34m\u001b[0m\u001b[0m\n",
      "\u001b[0;32m~/Documentos/Universidad/5º Carrera/Machine Learning/Projects/Project 1/scripts/cross_validation.py\u001b[0m in \u001b[0;36m<listcomp>\u001b[0;34m(.0)\u001b[0m\n\u001b[1;32m     50\u001b[0m         \u001b[0mtx_test\u001b[0m  \u001b[0;34m=\u001b[0m \u001b[0mtx\u001b[0m\u001b[0;34m[\u001b[0m\u001b[0midxs_folds\u001b[0m\u001b[0;34m[\u001b[0m\u001b[0mi\u001b[0m\u001b[0;34m]\u001b[0m\u001b[0;34m]\u001b[0m\u001b[0;34m.\u001b[0m\u001b[0mcopy\u001b[0m\u001b[0;34m(\u001b[0m\u001b[0;34m)\u001b[0m\u001b[0;34m\u001b[0m\u001b[0;34m\u001b[0m\u001b[0m\n\u001b[1;32m     51\u001b[0m         \u001b[0my_test\u001b[0m   \u001b[0;34m=\u001b[0m \u001b[0my\u001b[0m\u001b[0;34m[\u001b[0m \u001b[0midxs_folds\u001b[0m\u001b[0;34m[\u001b[0m\u001b[0mi\u001b[0m\u001b[0;34m]\u001b[0m\u001b[0;34m]\u001b[0m\u001b[0;34m.\u001b[0m\u001b[0mcopy\u001b[0m\u001b[0;34m(\u001b[0m\u001b[0;34m)\u001b[0m\u001b[0;34m\u001b[0m\u001b[0;34m\u001b[0m\u001b[0m\n\u001b[0;32m---> 52\u001b[0;31m         \u001b[0mtx_train\u001b[0m \u001b[0;34m=\u001b[0m \u001b[0mtx\u001b[0m\u001b[0;34m[\u001b[0m\u001b[0;34m[\u001b[0m\u001b[0mj\u001b[0m \u001b[0;32mfor\u001b[0m \u001b[0mj\u001b[0m \u001b[0;32min\u001b[0m \u001b[0midxs\u001b[0m \u001b[0;32mif\u001b[0m \u001b[0mj\u001b[0m \u001b[0;32mnot\u001b[0m \u001b[0;32min\u001b[0m \u001b[0midxs_folds\u001b[0m\u001b[0;34m[\u001b[0m\u001b[0mi\u001b[0m\u001b[0;34m]\u001b[0m\u001b[0;34m]\u001b[0m\u001b[0;34m]\u001b[0m\u001b[0;34m.\u001b[0m\u001b[0mcopy\u001b[0m\u001b[0;34m(\u001b[0m\u001b[0;34m)\u001b[0m\u001b[0;34m\u001b[0m\u001b[0;34m\u001b[0m\u001b[0m\n\u001b[0m\u001b[1;32m     53\u001b[0m         \u001b[0my_train\u001b[0m  \u001b[0;34m=\u001b[0m \u001b[0my\u001b[0m\u001b[0;34m[\u001b[0m\u001b[0;34m[\u001b[0m \u001b[0mj\u001b[0m \u001b[0;32mfor\u001b[0m \u001b[0mj\u001b[0m \u001b[0;32min\u001b[0m \u001b[0midxs\u001b[0m \u001b[0;32mif\u001b[0m \u001b[0mj\u001b[0m \u001b[0;32mnot\u001b[0m \u001b[0;32min\u001b[0m \u001b[0midxs_folds\u001b[0m\u001b[0;34m[\u001b[0m\u001b[0mi\u001b[0m\u001b[0;34m]\u001b[0m\u001b[0;34m]\u001b[0m\u001b[0;34m]\u001b[0m\u001b[0;34m.\u001b[0m\u001b[0mcopy\u001b[0m\u001b[0;34m(\u001b[0m\u001b[0;34m)\u001b[0m\u001b[0;34m\u001b[0m\u001b[0;34m\u001b[0m\u001b[0m\n\u001b[1;32m     54\u001b[0m \u001b[0;34m\u001b[0m\u001b[0m\n",
      "\u001b[0;31mKeyboardInterrupt\u001b[0m: "
     ]
    }
   ],
   "source": [
    "# Cross validation 5 folds over several combinations\n",
    "train_least_squares(y, tx)"
   ]
  },
  {
   "cell_type": "code",
   "execution_count": 5,
   "metadata": {},
   "outputs": [
    {
     "name": "stdout",
     "output_type": "stream",
     "text": [
      "Precission 0.7491920000000001 obtained for MVT=1 CT=0.875 OT=6 AD=2\n",
      "Precission 0.7489399999999999 obtained for MVT=1 CT=0.9 OT=6 AD=2\n",
      "Precission 0.749728 obtained for MVT=1 CT=0.925 OT=6 AD=2\n",
      "Precission 0.7503 obtained for MVT=1 CT=0.95 OT=6 AD=2\n",
      "Precission 0.44643999999999995 obtained for MVT=1 CT=0.975 OT=6 AD=2\n"
     ]
    },
    {
     "data": {
      "text/plain": [
       "(0.7503, 1, 0.95, 2)"
      ]
     },
     "execution_count": 5,
     "metadata": {},
     "output_type": "execute_result"
    }
   ],
   "source": [
    "# Cross validation 10 folds over the best candidates from cell before\n",
    "train_least_squares(y, tx)"
   ]
  },
  {
   "cell_type": "code",
   "execution_count": 5,
   "metadata": {},
   "outputs": [
    {
     "name": "stdout",
     "output_type": "stream",
     "text": [
      "Precission 0.7494200000000001 obtained for MVT=1 CT=0.925 OT=6 AD=2\n",
      "Precission 0.7500479999999999 obtained for MVT=1 CT=0.925 OT=7 AD=2\n",
      "Precission 0.7500600000000001 obtained for MVT=1 CT=0.925 OT=8 AD=2\n",
      "Precission 0.750024 obtained for MVT=1 CT=0.95 OT=6 AD=2\n",
      "Precission 0.7507199999999999 obtained for MVT=1 CT=0.95 OT=7 AD=2\n",
      "Precission 0.7504200000000001 obtained for MVT=1 CT=0.95 OT=8 AD=2\n"
     ]
    },
    {
     "data": {
      "text/plain": [
       "(0.7507199999999999, 1, 0.95, 2)"
      ]
     },
     "execution_count": 5,
     "metadata": {},
     "output_type": "execute_result"
    }
   ],
   "source": [
    "# Cross validation 10 folds varying both CT and OT\n",
    "train_least_squares(y, tx)"
   ]
  },
  {
   "cell_type": "code",
   "execution_count": 5,
   "metadata": {},
   "outputs": [
    {
     "name": "stdout",
     "output_type": "stream",
     "text": [
      "Precission 0.74252 obtained for MVT=0.5 CT=0.95 OT=6.5 AD=2\n",
      "Precission 0.7418 obtained for MVT=0.5 CT=0.95 OT=7.5 AD=2\n",
      "Precission 0.74144 obtained for MVT=0.5 CT=0.95 OT=8.5 AD=2\n",
      "Precission 0.750652 obtained for MVT=1 CT=0.95 OT=6.5 AD=2\n",
      "Precission 0.75044 obtained for MVT=1 CT=0.95 OT=7.5 AD=2\n",
      "Precission 0.750856 obtained for MVT=1 CT=0.95 OT=8.5 AD=2\n"
     ]
    },
    {
     "data": {
      "text/plain": [
       "(0.750856, 1, 0.95, 2)"
      ]
     },
     "execution_count": 5,
     "metadata": {},
     "output_type": "execute_result"
    }
   ],
   "source": [
    "# Cross validation 10 folds varying both CT and OT\n",
    "train_least_squares(y, tx)"
   ]
  },
  {
   "cell_type": "code",
   "execution_count": 5,
   "metadata": {},
   "outputs": [
    {
     "name": "stdout",
     "output_type": "stream",
     "text": [
      "Precission 0.7502920000000001 obtained for MVT=1 CT=0.95 OT=8.25 AD=2\n",
      "Precission 0.7505120000000001 obtained for MVT=1 CT=0.95 OT=8.75 AD=2\n",
      "Precission 0.7496079999999999 obtained for MVT=1 CT=0.95 OT=9.25 AD=2\n",
      "Precission 0.749996 obtained for MVT=1 CT=0.95 OT=12 AD=2\n"
     ]
    },
    {
     "data": {
      "text/plain": [
       "(0.7505120000000001, 1, 0.95, 2)"
      ]
     },
     "execution_count": 5,
     "metadata": {},
     "output_type": "execute_result"
    }
   ],
   "source": [
    "train_least_squares(y, tx)"
   ]
  },
  {
   "cell_type": "markdown",
   "metadata": {},
   "source": [
    "#### Final least squares parameters search"
   ]
  },
  {
   "cell_type": "code",
   "execution_count": 5,
   "metadata": {},
   "outputs": [
    {
     "name": "stdout",
     "output_type": "stream",
     "text": [
      "Precission 0.7894119999999999 obtained for MVT=1 CT=0.8 OT=6.5 AD=2\n",
      "Precission 0.789448 obtained for MVT=1 CT=0.8 OT=7.5 AD=2\n",
      "Precission 0.78958 obtained for MVT=1 CT=0.8 OT=8.5 AD=2\n",
      "Precission 0.7891800000000001 obtained for MVT=1 CT=0.85 OT=6.5 AD=2\n",
      "Precission 0.7898799999999999 obtained for MVT=1 CT=0.85 OT=7.5 AD=2\n",
      "Precission 0.7901559999999999 obtained for MVT=1 CT=0.85 OT=8.5 AD=2\n",
      "Precission 0.790104 obtained for MVT=1 CT=0.9 OT=6.5 AD=2\n",
      "Precission 0.791188 obtained for MVT=1 CT=0.9 OT=7.5 AD=2\n",
      "Precission 0.7914359999999999 obtained for MVT=1 CT=0.9 OT=8.5 AD=2\n",
      "Precission 0.79068 obtained for MVT=1 CT=0.95 OT=6.5 AD=2\n",
      "Precission 0.7908000000000002 obtained for MVT=1 CT=0.95 OT=7.5 AD=2\n",
      "Precission 0.791596 obtained for MVT=1 CT=0.95 OT=8.5 AD=2\n"
     ]
    },
    {
     "ename": "KeyboardInterrupt",
     "evalue": "",
     "output_type": "error",
     "traceback": [
      "\u001b[0;31m---------------------------------------------------------------------------\u001b[0m",
      "\u001b[0;31mKeyboardInterrupt\u001b[0m                         Traceback (most recent call last)",
      "\u001b[0;32m<ipython-input-5-31ace7d05e2c>\u001b[0m in \u001b[0;36m<module>\u001b[0;34m\u001b[0m\n\u001b[0;32m----> 1\u001b[0;31m \u001b[0mtrain_least_squares\u001b[0m\u001b[0;34m(\u001b[0m\u001b[0my\u001b[0m\u001b[0;34m,\u001b[0m \u001b[0mtx\u001b[0m\u001b[0;34m)\u001b[0m\u001b[0;34m\u001b[0m\u001b[0;34m\u001b[0m\u001b[0m\n\u001b[0m",
      "\u001b[0;32m~/Documentos/Universidad/5º Carrera/Machine Learning/Projects/Project 1/scripts/cross_validation.py\u001b[0m in \u001b[0;36mtrain_least_squares\u001b[0;34m(y, tx)\u001b[0m\n\u001b[1;32m     25\u001b[0m                 \u001b[0;32mfor\u001b[0m \u001b[0mad\u001b[0m \u001b[0;32min\u001b[0m \u001b[0mAUGMENTATION_DEGREES\u001b[0m\u001b[0;34m:\u001b[0m\u001b[0;34m\u001b[0m\u001b[0;34m\u001b[0m\u001b[0m\n\u001b[1;32m     26\u001b[0m                     \u001b[0;31m# Here we have our data with some features dropped\u001b[0m\u001b[0;34m\u001b[0m\u001b[0;34m\u001b[0m\u001b[0;34m\u001b[0m\u001b[0m\n\u001b[0;32m---> 27\u001b[0;31m                     \u001b[0mp\u001b[0m \u001b[0;34m=\u001b[0m \u001b[0mcross_validation\u001b[0m\u001b[0;34m(\u001b[0m\u001b[0my\u001b[0m\u001b[0;34m,\u001b[0m \u001b[0mtx\u001b[0m\u001b[0;34m,\u001b[0m \u001b[0;36m10\u001b[0m\u001b[0;34m,\u001b[0m \u001b[0mmvt\u001b[0m\u001b[0;34m,\u001b[0m \u001b[0mct\u001b[0m\u001b[0;34m,\u001b[0m \u001b[0mot\u001b[0m\u001b[0;34m,\u001b[0m \u001b[0mad\u001b[0m\u001b[0;34m)\u001b[0m\u001b[0;34m\u001b[0m\u001b[0;34m\u001b[0m\u001b[0m\n\u001b[0m\u001b[1;32m     28\u001b[0m                     \u001b[0mprint\u001b[0m\u001b[0;34m(\u001b[0m\u001b[0;34m'Precission '\u001b[0m\u001b[0;34m+\u001b[0m\u001b[0mstr\u001b[0m\u001b[0;34m(\u001b[0m\u001b[0mp\u001b[0m\u001b[0;34m)\u001b[0m\u001b[0;34m+\u001b[0m\u001b[0;34m' obtained for MVT='\u001b[0m\u001b[0;34m+\u001b[0m\u001b[0mstr\u001b[0m\u001b[0;34m(\u001b[0m\u001b[0mmvt\u001b[0m\u001b[0;34m)\u001b[0m\u001b[0;34m+\u001b[0m\u001b[0;34m' CT='\u001b[0m\u001b[0;34m+\u001b[0m\u001b[0mstr\u001b[0m\u001b[0;34m(\u001b[0m\u001b[0mct\u001b[0m\u001b[0;34m)\u001b[0m\u001b[0;34m+\u001b[0m\u001b[0;34m' OT='\u001b[0m\u001b[0;34m+\u001b[0m\u001b[0mstr\u001b[0m\u001b[0;34m(\u001b[0m\u001b[0mot\u001b[0m\u001b[0;34m)\u001b[0m\u001b[0;34m+\u001b[0m\u001b[0;34m' AD='\u001b[0m\u001b[0;34m+\u001b[0m\u001b[0mstr\u001b[0m\u001b[0;34m(\u001b[0m\u001b[0mad\u001b[0m\u001b[0;34m)\u001b[0m\u001b[0;34m)\u001b[0m\u001b[0;34m\u001b[0m\u001b[0;34m\u001b[0m\u001b[0m\n\u001b[1;32m     29\u001b[0m \u001b[0;34m\u001b[0m\u001b[0m\n",
      "\u001b[0;32m~/Documentos/Universidad/5º Carrera/Machine Learning/Projects/Project 1/scripts/cross_validation.py\u001b[0m in \u001b[0;36mcross_validation\u001b[0;34m(y, tx, k, mvt, ct, ot, ad)\u001b[0m\n\u001b[1;32m     52\u001b[0m         \u001b[0my_test\u001b[0m   \u001b[0;34m=\u001b[0m \u001b[0my\u001b[0m\u001b[0;34m[\u001b[0m \u001b[0midxs_folds\u001b[0m\u001b[0;34m[\u001b[0m\u001b[0mi\u001b[0m\u001b[0;34m]\u001b[0m\u001b[0;34m]\u001b[0m\u001b[0;34m.\u001b[0m\u001b[0mcopy\u001b[0m\u001b[0;34m(\u001b[0m\u001b[0;34m)\u001b[0m\u001b[0;34m\u001b[0m\u001b[0;34m\u001b[0m\u001b[0m\n\u001b[1;32m     53\u001b[0m         \u001b[0mtx_train\u001b[0m \u001b[0;34m=\u001b[0m \u001b[0mtx\u001b[0m\u001b[0;34m[\u001b[0m\u001b[0;34m[\u001b[0m\u001b[0mj\u001b[0m \u001b[0;32mfor\u001b[0m \u001b[0mj\u001b[0m \u001b[0;32min\u001b[0m \u001b[0midxs\u001b[0m \u001b[0;32mif\u001b[0m \u001b[0mj\u001b[0m \u001b[0;32mnot\u001b[0m \u001b[0;32min\u001b[0m \u001b[0midxs_folds\u001b[0m\u001b[0;34m[\u001b[0m\u001b[0mi\u001b[0m\u001b[0;34m]\u001b[0m\u001b[0;34m]\u001b[0m\u001b[0;34m]\u001b[0m\u001b[0;34m.\u001b[0m\u001b[0mcopy\u001b[0m\u001b[0;34m(\u001b[0m\u001b[0;34m)\u001b[0m\u001b[0;34m\u001b[0m\u001b[0;34m\u001b[0m\u001b[0m\n\u001b[0;32m---> 54\u001b[0;31m         \u001b[0my_train\u001b[0m  \u001b[0;34m=\u001b[0m \u001b[0my\u001b[0m\u001b[0;34m[\u001b[0m\u001b[0;34m[\u001b[0m \u001b[0mj\u001b[0m \u001b[0;32mfor\u001b[0m \u001b[0mj\u001b[0m \u001b[0;32min\u001b[0m \u001b[0midxs\u001b[0m \u001b[0;32mif\u001b[0m \u001b[0mj\u001b[0m \u001b[0;32mnot\u001b[0m \u001b[0;32min\u001b[0m \u001b[0midxs_folds\u001b[0m\u001b[0;34m[\u001b[0m\u001b[0mi\u001b[0m\u001b[0;34m]\u001b[0m\u001b[0;34m]\u001b[0m\u001b[0;34m]\u001b[0m\u001b[0;34m.\u001b[0m\u001b[0mcopy\u001b[0m\u001b[0;34m(\u001b[0m\u001b[0;34m)\u001b[0m\u001b[0;34m\u001b[0m\u001b[0;34m\u001b[0m\u001b[0m\n\u001b[0m\u001b[1;32m     55\u001b[0m \u001b[0;34m\u001b[0m\u001b[0m\n\u001b[1;32m     56\u001b[0m         \u001b[0;31m# Data preprocessing\u001b[0m\u001b[0;34m\u001b[0m\u001b[0;34m\u001b[0m\u001b[0;34m\u001b[0m\u001b[0m\n",
      "\u001b[0;32m~/Documentos/Universidad/5º Carrera/Machine Learning/Projects/Project 1/scripts/cross_validation.py\u001b[0m in \u001b[0;36m<listcomp>\u001b[0;34m(.0)\u001b[0m\n\u001b[1;32m     52\u001b[0m         \u001b[0my_test\u001b[0m   \u001b[0;34m=\u001b[0m \u001b[0my\u001b[0m\u001b[0;34m[\u001b[0m \u001b[0midxs_folds\u001b[0m\u001b[0;34m[\u001b[0m\u001b[0mi\u001b[0m\u001b[0;34m]\u001b[0m\u001b[0;34m]\u001b[0m\u001b[0;34m.\u001b[0m\u001b[0mcopy\u001b[0m\u001b[0;34m(\u001b[0m\u001b[0;34m)\u001b[0m\u001b[0;34m\u001b[0m\u001b[0;34m\u001b[0m\u001b[0m\n\u001b[1;32m     53\u001b[0m         \u001b[0mtx_train\u001b[0m \u001b[0;34m=\u001b[0m \u001b[0mtx\u001b[0m\u001b[0;34m[\u001b[0m\u001b[0;34m[\u001b[0m\u001b[0mj\u001b[0m \u001b[0;32mfor\u001b[0m \u001b[0mj\u001b[0m \u001b[0;32min\u001b[0m \u001b[0midxs\u001b[0m \u001b[0;32mif\u001b[0m \u001b[0mj\u001b[0m \u001b[0;32mnot\u001b[0m \u001b[0;32min\u001b[0m \u001b[0midxs_folds\u001b[0m\u001b[0;34m[\u001b[0m\u001b[0mi\u001b[0m\u001b[0;34m]\u001b[0m\u001b[0;34m]\u001b[0m\u001b[0;34m]\u001b[0m\u001b[0;34m.\u001b[0m\u001b[0mcopy\u001b[0m\u001b[0;34m(\u001b[0m\u001b[0;34m)\u001b[0m\u001b[0;34m\u001b[0m\u001b[0;34m\u001b[0m\u001b[0m\n\u001b[0;32m---> 54\u001b[0;31m         \u001b[0my_train\u001b[0m  \u001b[0;34m=\u001b[0m \u001b[0my\u001b[0m\u001b[0;34m[\u001b[0m\u001b[0;34m[\u001b[0m \u001b[0mj\u001b[0m \u001b[0;32mfor\u001b[0m \u001b[0mj\u001b[0m \u001b[0;32min\u001b[0m \u001b[0midxs\u001b[0m \u001b[0;32mif\u001b[0m \u001b[0mj\u001b[0m \u001b[0;32mnot\u001b[0m \u001b[0;32min\u001b[0m \u001b[0midxs_folds\u001b[0m\u001b[0;34m[\u001b[0m\u001b[0mi\u001b[0m\u001b[0;34m]\u001b[0m\u001b[0;34m]\u001b[0m\u001b[0;34m]\u001b[0m\u001b[0;34m.\u001b[0m\u001b[0mcopy\u001b[0m\u001b[0;34m(\u001b[0m\u001b[0;34m)\u001b[0m\u001b[0;34m\u001b[0m\u001b[0;34m\u001b[0m\u001b[0m\n\u001b[0m\u001b[1;32m     55\u001b[0m \u001b[0;34m\u001b[0m\u001b[0m\n\u001b[1;32m     56\u001b[0m         \u001b[0;31m# Data preprocessing\u001b[0m\u001b[0;34m\u001b[0m\u001b[0;34m\u001b[0m\u001b[0;34m\u001b[0m\u001b[0m\n",
      "\u001b[0;31mKeyboardInterrupt\u001b[0m: "
     ]
    }
   ],
   "source": [
    "train_least_squares(y, tx)"
   ]
  },
  {
   "cell_type": "code",
   "execution_count": 5,
   "metadata": {},
   "outputs": [
    {
     "name": "stdout",
     "output_type": "stream",
     "text": [
      "Precission 0.7675919999999999 obtained for MVT=1 CT=0.9 OT=3.5 AD=2\n",
      "Precission 0.78318 obtained for MVT=1 CT=0.9 OT=4.5 AD=2\n",
      "Precission 0.790628 obtained for MVT=1 CT=0.9 OT=8 AD=2\n",
      "Precission 0.7913840000000001 obtained for MVT=1 CT=0.9 OT=9 AD=2\n",
      "Precission 0.791228 obtained for MVT=1 CT=0.9 OT=10 AD=2\n",
      "Precission 0.791412 obtained for MVT=1 CT=0.9 OT=11 AD=2\n",
      "Precission 0.7565120000000001 obtained for MVT=1 CT=0.95 OT=3.5 AD=2\n",
      "Precission 0.7812119999999999 obtained for MVT=1 CT=0.95 OT=4.5 AD=2\n",
      "Precission 0.791188 obtained for MVT=1 CT=0.95 OT=8 AD=2\n",
      "Precission 0.7915840000000001 obtained for MVT=1 CT=0.95 OT=9 AD=2\n",
      "Precission 0.7916160000000001 obtained for MVT=1 CT=0.95 OT=10 AD=2\n",
      "Precission 0.791384 obtained for MVT=1 CT=0.95 OT=11 AD=2\n"
     ]
    },
    {
     "data": {
      "text/plain": [
       "(0.7916160000000001, 1, 0.95, 10, 2)"
      ]
     },
     "execution_count": 5,
     "metadata": {},
     "output_type": "execute_result"
    }
   ],
   "source": [
    "train_least_squares(y, tx)"
   ]
  },
  {
   "cell_type": "code",
   "execution_count": 5,
   "metadata": {},
   "outputs": [
    {
     "name": "stdout",
     "output_type": "stream",
     "text": [
      "Precission 0.385308 obtained for MVT=1 CT=0.975 OT=9.5 AD=2\n",
      "Precission 0.388308 obtained for MVT=1 CT=0.975 OT=9.5 AD=3\n"
     ]
    },
    {
     "ename": "KeyboardInterrupt",
     "evalue": "",
     "output_type": "error",
     "traceback": [
      "\u001b[0;31m---------------------------------------------------------------------------\u001b[0m",
      "\u001b[0;31mKeyboardInterrupt\u001b[0m                         Traceback (most recent call last)",
      "\u001b[0;32m<ipython-input-5-31ace7d05e2c>\u001b[0m in \u001b[0;36m<module>\u001b[0;34m\u001b[0m\n\u001b[0;32m----> 1\u001b[0;31m \u001b[0mtrain_least_squares\u001b[0m\u001b[0;34m(\u001b[0m\u001b[0my\u001b[0m\u001b[0;34m,\u001b[0m \u001b[0mtx\u001b[0m\u001b[0;34m)\u001b[0m\u001b[0;34m\u001b[0m\u001b[0;34m\u001b[0m\u001b[0m\n\u001b[0m",
      "\u001b[0;32m~/Documentos/Universidad/5º Carrera/Machine Learning/Projects/Project 1/scripts/cross_validation.py\u001b[0m in \u001b[0;36mtrain_least_squares\u001b[0;34m(y, tx)\u001b[0m\n\u001b[1;32m     25\u001b[0m                 \u001b[0;32mfor\u001b[0m \u001b[0mad\u001b[0m \u001b[0;32min\u001b[0m \u001b[0mAUGMENTATION_DEGREES\u001b[0m\u001b[0;34m:\u001b[0m\u001b[0;34m\u001b[0m\u001b[0;34m\u001b[0m\u001b[0m\n\u001b[1;32m     26\u001b[0m                     \u001b[0;31m# Here we have our data with some features dropped\u001b[0m\u001b[0;34m\u001b[0m\u001b[0;34m\u001b[0m\u001b[0;34m\u001b[0m\u001b[0m\n\u001b[0;32m---> 27\u001b[0;31m                     \u001b[0mp\u001b[0m \u001b[0;34m=\u001b[0m \u001b[0mcross_validation\u001b[0m\u001b[0;34m(\u001b[0m\u001b[0my\u001b[0m\u001b[0;34m,\u001b[0m \u001b[0mtx\u001b[0m\u001b[0;34m,\u001b[0m \u001b[0;36m5\u001b[0m\u001b[0;34m,\u001b[0m \u001b[0mmvt\u001b[0m\u001b[0;34m,\u001b[0m \u001b[0mct\u001b[0m\u001b[0;34m,\u001b[0m \u001b[0mot\u001b[0m\u001b[0;34m,\u001b[0m \u001b[0mad\u001b[0m\u001b[0;34m)\u001b[0m\u001b[0;34m\u001b[0m\u001b[0;34m\u001b[0m\u001b[0m\n\u001b[0m\u001b[1;32m     28\u001b[0m                     \u001b[0mprint\u001b[0m\u001b[0;34m(\u001b[0m\u001b[0;34m'Precission '\u001b[0m\u001b[0;34m+\u001b[0m\u001b[0mstr\u001b[0m\u001b[0;34m(\u001b[0m\u001b[0mp\u001b[0m\u001b[0;34m)\u001b[0m\u001b[0;34m+\u001b[0m\u001b[0;34m' obtained for MVT='\u001b[0m\u001b[0;34m+\u001b[0m\u001b[0mstr\u001b[0m\u001b[0;34m(\u001b[0m\u001b[0mmvt\u001b[0m\u001b[0;34m)\u001b[0m\u001b[0;34m+\u001b[0m\u001b[0;34m' CT='\u001b[0m\u001b[0;34m+\u001b[0m\u001b[0mstr\u001b[0m\u001b[0;34m(\u001b[0m\u001b[0mct\u001b[0m\u001b[0;34m)\u001b[0m\u001b[0;34m+\u001b[0m\u001b[0;34m' OT='\u001b[0m\u001b[0;34m+\u001b[0m\u001b[0mstr\u001b[0m\u001b[0;34m(\u001b[0m\u001b[0mot\u001b[0m\u001b[0;34m)\u001b[0m\u001b[0;34m+\u001b[0m\u001b[0;34m' AD='\u001b[0m\u001b[0;34m+\u001b[0m\u001b[0mstr\u001b[0m\u001b[0;34m(\u001b[0m\u001b[0mad\u001b[0m\u001b[0;34m)\u001b[0m\u001b[0;34m)\u001b[0m\u001b[0;34m\u001b[0m\u001b[0;34m\u001b[0m\u001b[0m\n\u001b[1;32m     29\u001b[0m \u001b[0;34m\u001b[0m\u001b[0m\n",
      "\u001b[0;32m~/Documentos/Universidad/5º Carrera/Machine Learning/Projects/Project 1/scripts/cross_validation.py\u001b[0m in \u001b[0;36mcross_validation\u001b[0;34m(y, tx, k, mvt, ct, ot, ad)\u001b[0m\n\u001b[1;32m     51\u001b[0m         \u001b[0mtx_test\u001b[0m  \u001b[0;34m=\u001b[0m \u001b[0mtx\u001b[0m\u001b[0;34m[\u001b[0m\u001b[0midxs_folds\u001b[0m\u001b[0;34m[\u001b[0m\u001b[0mi\u001b[0m\u001b[0;34m]\u001b[0m\u001b[0;34m]\u001b[0m\u001b[0;34m.\u001b[0m\u001b[0mcopy\u001b[0m\u001b[0;34m(\u001b[0m\u001b[0;34m)\u001b[0m\u001b[0;34m\u001b[0m\u001b[0;34m\u001b[0m\u001b[0m\n\u001b[1;32m     52\u001b[0m         \u001b[0my_test\u001b[0m   \u001b[0;34m=\u001b[0m \u001b[0my\u001b[0m\u001b[0;34m[\u001b[0m \u001b[0midxs_folds\u001b[0m\u001b[0;34m[\u001b[0m\u001b[0mi\u001b[0m\u001b[0;34m]\u001b[0m\u001b[0;34m]\u001b[0m\u001b[0;34m.\u001b[0m\u001b[0mcopy\u001b[0m\u001b[0;34m(\u001b[0m\u001b[0;34m)\u001b[0m\u001b[0;34m\u001b[0m\u001b[0;34m\u001b[0m\u001b[0m\n\u001b[0;32m---> 53\u001b[0;31m         \u001b[0mtx_train\u001b[0m \u001b[0;34m=\u001b[0m \u001b[0mtx\u001b[0m\u001b[0;34m[\u001b[0m\u001b[0;34m[\u001b[0m\u001b[0mj\u001b[0m \u001b[0;32mfor\u001b[0m \u001b[0mj\u001b[0m \u001b[0;32min\u001b[0m \u001b[0midxs\u001b[0m \u001b[0;32mif\u001b[0m \u001b[0mj\u001b[0m \u001b[0;32mnot\u001b[0m \u001b[0;32min\u001b[0m \u001b[0midxs_folds\u001b[0m\u001b[0;34m[\u001b[0m\u001b[0mi\u001b[0m\u001b[0;34m]\u001b[0m\u001b[0;34m]\u001b[0m\u001b[0;34m]\u001b[0m\u001b[0;34m.\u001b[0m\u001b[0mcopy\u001b[0m\u001b[0;34m(\u001b[0m\u001b[0;34m)\u001b[0m\u001b[0;34m\u001b[0m\u001b[0;34m\u001b[0m\u001b[0m\n\u001b[0m\u001b[1;32m     54\u001b[0m         \u001b[0my_train\u001b[0m  \u001b[0;34m=\u001b[0m \u001b[0my\u001b[0m\u001b[0;34m[\u001b[0m\u001b[0;34m[\u001b[0m \u001b[0mj\u001b[0m \u001b[0;32mfor\u001b[0m \u001b[0mj\u001b[0m \u001b[0;32min\u001b[0m \u001b[0midxs\u001b[0m \u001b[0;32mif\u001b[0m \u001b[0mj\u001b[0m \u001b[0;32mnot\u001b[0m \u001b[0;32min\u001b[0m \u001b[0midxs_folds\u001b[0m\u001b[0;34m[\u001b[0m\u001b[0mi\u001b[0m\u001b[0;34m]\u001b[0m\u001b[0;34m]\u001b[0m\u001b[0;34m]\u001b[0m\u001b[0;34m.\u001b[0m\u001b[0mcopy\u001b[0m\u001b[0;34m(\u001b[0m\u001b[0;34m)\u001b[0m\u001b[0;34m\u001b[0m\u001b[0;34m\u001b[0m\u001b[0m\n\u001b[1;32m     55\u001b[0m \u001b[0;34m\u001b[0m\u001b[0m\n",
      "\u001b[0;32m~/Documentos/Universidad/5º Carrera/Machine Learning/Projects/Project 1/scripts/cross_validation.py\u001b[0m in \u001b[0;36m<listcomp>\u001b[0;34m(.0)\u001b[0m\n\u001b[1;32m     51\u001b[0m         \u001b[0mtx_test\u001b[0m  \u001b[0;34m=\u001b[0m \u001b[0mtx\u001b[0m\u001b[0;34m[\u001b[0m\u001b[0midxs_folds\u001b[0m\u001b[0;34m[\u001b[0m\u001b[0mi\u001b[0m\u001b[0;34m]\u001b[0m\u001b[0;34m]\u001b[0m\u001b[0;34m.\u001b[0m\u001b[0mcopy\u001b[0m\u001b[0;34m(\u001b[0m\u001b[0;34m)\u001b[0m\u001b[0;34m\u001b[0m\u001b[0;34m\u001b[0m\u001b[0m\n\u001b[1;32m     52\u001b[0m         \u001b[0my_test\u001b[0m   \u001b[0;34m=\u001b[0m \u001b[0my\u001b[0m\u001b[0;34m[\u001b[0m \u001b[0midxs_folds\u001b[0m\u001b[0;34m[\u001b[0m\u001b[0mi\u001b[0m\u001b[0;34m]\u001b[0m\u001b[0;34m]\u001b[0m\u001b[0;34m.\u001b[0m\u001b[0mcopy\u001b[0m\u001b[0;34m(\u001b[0m\u001b[0;34m)\u001b[0m\u001b[0;34m\u001b[0m\u001b[0;34m\u001b[0m\u001b[0m\n\u001b[0;32m---> 53\u001b[0;31m         \u001b[0mtx_train\u001b[0m \u001b[0;34m=\u001b[0m \u001b[0mtx\u001b[0m\u001b[0;34m[\u001b[0m\u001b[0;34m[\u001b[0m\u001b[0mj\u001b[0m \u001b[0;32mfor\u001b[0m \u001b[0mj\u001b[0m \u001b[0;32min\u001b[0m \u001b[0midxs\u001b[0m \u001b[0;32mif\u001b[0m \u001b[0mj\u001b[0m \u001b[0;32mnot\u001b[0m \u001b[0;32min\u001b[0m \u001b[0midxs_folds\u001b[0m\u001b[0;34m[\u001b[0m\u001b[0mi\u001b[0m\u001b[0;34m]\u001b[0m\u001b[0;34m]\u001b[0m\u001b[0;34m]\u001b[0m\u001b[0;34m.\u001b[0m\u001b[0mcopy\u001b[0m\u001b[0;34m(\u001b[0m\u001b[0;34m)\u001b[0m\u001b[0;34m\u001b[0m\u001b[0;34m\u001b[0m\u001b[0m\n\u001b[0m\u001b[1;32m     54\u001b[0m         \u001b[0my_train\u001b[0m  \u001b[0;34m=\u001b[0m \u001b[0my\u001b[0m\u001b[0;34m[\u001b[0m\u001b[0;34m[\u001b[0m \u001b[0mj\u001b[0m \u001b[0;32mfor\u001b[0m \u001b[0mj\u001b[0m \u001b[0;32min\u001b[0m \u001b[0midxs\u001b[0m \u001b[0;32mif\u001b[0m \u001b[0mj\u001b[0m \u001b[0;32mnot\u001b[0m \u001b[0;32min\u001b[0m \u001b[0midxs_folds\u001b[0m\u001b[0;34m[\u001b[0m\u001b[0mi\u001b[0m\u001b[0;34m]\u001b[0m\u001b[0;34m]\u001b[0m\u001b[0;34m]\u001b[0m\u001b[0;34m.\u001b[0m\u001b[0mcopy\u001b[0m\u001b[0;34m(\u001b[0m\u001b[0;34m)\u001b[0m\u001b[0;34m\u001b[0m\u001b[0;34m\u001b[0m\u001b[0m\n\u001b[1;32m     55\u001b[0m \u001b[0;34m\u001b[0m\u001b[0m\n",
      "\u001b[0;31mKeyboardInterrupt\u001b[0m: "
     ]
    }
   ],
   "source": [
    "train_least_squares(y, tx)"
   ]
  },
  {
   "cell_type": "code",
   "execution_count": 5,
   "metadata": {},
   "outputs": [
    {
     "name": "stdout",
     "output_type": "stream",
     "text": [
      "Precission 0.791524 obtained for MVT=1 CT=0.925 OT=9.5 AD=2\n",
      "Precission 0.791628 obtained for MVT=1 CT=0.925 OT=10.5 AD=2\n",
      "Precission 0.7915 obtained for MVT=1 CT=0.925 OT=11.5 AD=2\n",
      "Precission 0.7912 obtained for MVT=1 CT=0.925 OT=14 AD=2\n"
     ]
    },
    {
     "data": {
      "text/plain": [
       "(0.791628, 1, 0.925, 10.5, 2)"
      ]
     },
     "execution_count": 5,
     "metadata": {},
     "output_type": "execute_result"
    }
   ],
   "source": [
    "train_least_squares(y, tx)"
   ]
  },
  {
   "cell_type": "code",
   "execution_count": 5,
   "metadata": {},
   "outputs": [
    {
     "name": "stdout",
     "output_type": "stream",
     "text": [
      "Precission 0.7969999999999999 obtained for MVT=1 CT=0.925 OT=10.5 AD=3\n",
      "Precission 0.8045640000000001 obtained for MVT=1 CT=0.925 OT=10.5 AD=4\n",
      "Precission 0.7858560000000001 obtained for MVT=1 CT=0.925 OT=10.5 AD=5\n"
     ]
    },
    {
     "data": {
      "text/plain": [
       "(0.8045640000000001, 1, 0.925, 10.5, 4)"
      ]
     },
     "execution_count": 5,
     "metadata": {},
     "output_type": "execute_result"
    }
   ],
   "source": [
    "train_least_squares(y, tx)"
   ]
  },
  {
   "cell_type": "code",
   "execution_count": 5,
   "metadata": {},
   "outputs": [
    {
     "name": "stdout",
     "output_type": "stream",
     "text": [
      "Precission 0.804064 obtained for MVT=1 CT=0.925 OT=10.5 AD=4\n"
     ]
    },
    {
     "data": {
      "text/plain": [
       "(0.804064, 1, 0.925, 10.5, 4)"
      ]
     },
     "execution_count": 5,
     "metadata": {},
     "output_type": "execute_result"
    }
   ],
   "source": [
    "train_least_squares(y, tx)"
   ]
  },
  {
   "cell_type": "code",
   "execution_count": 5,
   "metadata": {},
   "outputs": [
    {
     "name": "stdout",
     "output_type": "stream",
     "text": [
      "Precission 0.8022560000000001 obtained for MVT=1 CT=0.925 OT=9.5 AD=4\n",
      "Precission 0.8045120000000001 obtained for MVT=1 CT=0.925 OT=11.5 AD=4\n"
     ]
    },
    {
     "data": {
      "text/plain": [
       "(0.8045120000000001, 1, 0.925, 11.5, 4)"
      ]
     },
     "execution_count": 5,
     "metadata": {},
     "output_type": "execute_result"
    }
   ],
   "source": [
    "train_least_squares(y, tx)"
   ]
  },
  {
   "cell_type": "code",
   "execution_count": 5,
   "metadata": {},
   "outputs": [
    {
     "name": "stdout",
     "output_type": "stream",
     "text": [
      "Precission 0.8040839999999999 obtained for MVT=1 CT=0.9 OT=10.5 AD=4\n",
      "Precission 0.803796 obtained for MVT=1 CT=0.95 OT=10.5 AD=4\n"
     ]
    },
    {
     "data": {
      "text/plain": [
       "(0.8040839999999999, 1, 0.9, 10.5, 4)"
      ]
     },
     "execution_count": 5,
     "metadata": {},
     "output_type": "execute_result"
    }
   ],
   "source": [
    "train_least_squares(y, tx)"
   ]
  },
  {
   "cell_type": "code",
   "execution_count": 5,
   "metadata": {},
   "outputs": [
    {
     "name": "stdout",
     "output_type": "stream",
     "text": [
      "Precission 0.803472 obtained for MVT=1 CT=0.925 OT=12.5 AD=4\n",
      "Precission 0.804204 obtained for MVT=1 CT=0.925 OT=13.5 AD=4\n"
     ]
    },
    {
     "data": {
      "text/plain": [
       "(0.804204, 1, 0.925, 13.5, 4)"
      ]
     },
     "execution_count": 5,
     "metadata": {},
     "output_type": "execute_result"
    }
   ],
   "source": [
    "train_least_squares(y, tx)"
   ]
  },
  {
   "cell_type": "code",
   "execution_count": 5,
   "metadata": {},
   "outputs": [
    {
     "name": "stdout",
     "output_type": "stream",
     "text": [
      "Precission 0.79762 obtained for MVT=1 CT=0.925 OT=11.5 AD=3\n",
      "Precission 0.796604 obtained for MVT=1 CT=0.925 OT=11.5 AD=5\n",
      "Precission 0.787728 obtained for MVT=1 CT=0.925 OT=11.5 AD=6\n"
     ]
    },
    {
     "data": {
      "text/plain": [
       "(0.79762, 1, 0.925, 11.5, 3)"
      ]
     },
     "execution_count": 5,
     "metadata": {},
     "output_type": "execute_result"
    }
   ],
   "source": [
    "train_least_squares(y, tx)"
   ]
  },
  {
   "cell_type": "markdown",
   "metadata": {},
   "source": [
    "### At this point we know that MVT=1 CT=0.925 OT=11 AD=4 is a local minimum"
   ]
  },
  {
   "cell_type": "code",
   "execution_count": 5,
   "metadata": {},
   "outputs": [
    {
     "name": "stdout",
     "output_type": "stream",
     "text": [
      "Precission 0.80396 obtained for MVT=1 CT=0.925 OT=11 AD=4\n"
     ]
    },
    {
     "data": {
      "text/plain": [
       "(0.80396, 1, 0.925, 11, 4)"
      ]
     },
     "execution_count": 5,
     "metadata": {},
     "output_type": "execute_result"
    }
   ],
   "source": [
    "train_least_squares(y, tx)"
   ]
  },
  {
   "cell_type": "code",
   "execution_count": null,
   "metadata": {},
   "outputs": [],
   "source": []
  }
 ],
 "metadata": {
  "kernelspec": {
   "display_name": "Python 3",
   "language": "python",
   "name": "python3"
  },
  "language_info": {
   "codemirror_mode": {
    "name": "ipython",
    "version": 3
   },
   "file_extension": ".py",
   "mimetype": "text/x-python",
   "name": "python",
   "nbconvert_exporter": "python",
   "pygments_lexer": "ipython3",
   "version": "3.6.9"
  }
 },
 "nbformat": 4,
 "nbformat_minor": 4
}
