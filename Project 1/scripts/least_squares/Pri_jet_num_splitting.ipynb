{
 "cells": [
  {
   "cell_type": "code",
   "execution_count": 1,
   "metadata": {},
   "outputs": [],
   "source": [
    "import numpy  as np\n",
    "#import pandas as pd"
   ]
  },
  {
   "cell_type": "code",
   "execution_count": 2,
   "metadata": {},
   "outputs": [],
   "source": [
    "from proj1_helpers    import *\n",
    "from implementations  import *\n",
    "from preprocessing    import *\n",
    "from cross_validation import *"
   ]
  },
  {
   "cell_type": "code",
   "execution_count": 3,
   "metadata": {},
   "outputs": [],
   "source": [
    "DATA_TRAIN_PATH = '../../data/train.csv'"
   ]
  },
  {
   "cell_type": "code",
   "execution_count": 4,
   "metadata": {},
   "outputs": [],
   "source": [
    "PRI_JET_NUM_IDX = 22"
   ]
  },
  {
   "cell_type": "code",
   "execution_count": 5,
   "metadata": {},
   "outputs": [],
   "source": [
    "# Get data from file\n",
    "y, tx, ids = load_csv_data(DATA_TRAIN_PATH)"
   ]
  },
  {
   "cell_type": "code",
   "execution_count": 6,
   "metadata": {},
   "outputs": [],
   "source": [
    "pri_jet_num_0_idxs = [i for i in range(tx.shape[0]) if tx[i][PRI_JET_NUM_IDX]==0] \n",
    "pri_jet_num_1_idxs = [i for i in range(tx.shape[0]) if tx[i][PRI_JET_NUM_IDX]==1] \n",
    "pri_jet_num_2_idxs = [i for i in range(tx.shape[0]) if tx[i][PRI_JET_NUM_IDX]==2] \n",
    "pri_jet_num_3_idxs = [i for i in range(tx.shape[0]) if tx[i][PRI_JET_NUM_IDX]==3] "
   ]
  },
  {
   "cell_type": "code",
   "execution_count": 7,
   "metadata": {},
   "outputs": [],
   "source": [
    "#len(pri_jet_num_0_idxs)  # ~= 10000\n",
    "#len(pri_jet_num_1_idxs)  # ~= 75000\n",
    "#len(pri_jet_num_2_idxs)  # ~= 50000\n",
    "#len(pri_jet_num_3_idxs)  # ~= 25000"
   ]
  },
  {
   "cell_type": "code",
   "execution_count": 8,
   "metadata": {},
   "outputs": [],
   "source": [
    "y_train0 = y[ pri_jet_num_0_idxs]\n",
    "tx_train0= np.delete(tx[pri_jet_num_0_idxs], [PRI_JET_NUM_IDX,29] ,1) # 29 because last feature is constand here!"
   ]
  },
  {
   "cell_type": "code",
   "execution_count": 9,
   "metadata": {},
   "outputs": [],
   "source": [
    "y_train1 = y[ pri_jet_num_1_idxs]\n",
    "tx_train1= np.delete(tx[pri_jet_num_1_idxs], PRI_JET_NUM_IDX ,1)"
   ]
  },
  {
   "cell_type": "code",
   "execution_count": 10,
   "metadata": {},
   "outputs": [],
   "source": [
    "y_train2 = y[ pri_jet_num_2_idxs]\n",
    "tx_train2= np.delete(tx[pri_jet_num_2_idxs], PRI_JET_NUM_IDX ,1)"
   ]
  },
  {
   "cell_type": "code",
   "execution_count": 11,
   "metadata": {},
   "outputs": [],
   "source": [
    "y_train3 = y[ pri_jet_num_3_idxs]\n",
    "tx_train3= np.delete(tx[pri_jet_num_3_idxs], PRI_JET_NUM_IDX ,1)"
   ]
  },
  {
   "cell_type": "code",
   "execution_count": 12,
   "metadata": {},
   "outputs": [],
   "source": [
    "#pd.DataFrame(tx_train0)\n",
    "#pd.DataFrame(tx_train1)\n",
    "#pd.DataFrame(tx_train2)\n",
    "#pd.DataFrame(tx_train3)"
   ]
  },
  {
   "cell_type": "code",
   "execution_count": 13,
   "metadata": {},
   "outputs": [],
   "source": [
    "# get_high_MV_freq_features(y_train0,tx_train0,0.99)   # [ 4,  5,  6, 12, 22, 23, 24, 25, 26, 27]\n",
    "# get_high_MV_freq_features(y_train1,tx_train1,0.99)   # [ 4,  5,  6, 12, 25, 26, 27]\n",
    "# get_high_MV_freq_features(y_train2,tx_train2,0.99)\n",
    "# get_high_MV_freq_features(y_train3,tx_train3,0.99)"
   ]
  },
  {
   "cell_type": "code",
   "execution_count": 14,
   "metadata": {},
   "outputs": [
    {
     "name": "stdout",
     "output_type": "stream",
     "text": [
      "Precission 0.7010787805406791 obtained for MVT=0.99 CT=0.85 OT=5 AD=1\n",
      "Precission 0.46843722228452284 obtained for MVT=0.99 CT=0.85 OT=5 AD=2\n",
      "Precission 0.483080495310214 obtained for MVT=0.99 CT=0.85 OT=5 AD=4\n",
      "Precission 0.41012672301833897 obtained for MVT=0.99 CT=0.85 OT=5 AD=6\n",
      "Precission 0.6790902965148241 obtained for MVT=0.99 CT=0.85 OT=7 AD=1\n",
      "Precission 0.42755209308554853 obtained for MVT=0.99 CT=0.85 OT=7 AD=2\n",
      "Precission 0.4963823308464982 obtained for MVT=0.99 CT=0.85 OT=7 AD=4\n",
      "Precission 0.4211165432966134 obtained for MVT=0.99 CT=0.85 OT=7 AD=6\n",
      "Precission 0.7385126642001621 obtained for MVT=0.99 CT=0.85 OT=9 AD=1\n",
      "Precission 0.4544948012136009 obtained for MVT=0.99 CT=0.85 OT=9 AD=2\n",
      "Precission 0.43815119039753503 obtained for MVT=0.99 CT=0.85 OT=9 AD=4\n",
      "Precission 0.4347585794236782 obtained for MVT=0.99 CT=0.85 OT=9 AD=6\n",
      "Precission 0.7178157749771421 obtained for MVT=0.99 CT=0.85 OT=11 AD=1\n",
      "Precission 0.41697137742739426 obtained for MVT=0.99 CT=0.85 OT=11 AD=2\n",
      "Precission 0.43981324171587294 obtained for MVT=0.99 CT=0.85 OT=11 AD=4\n",
      "Precission 0.41415051056835406 obtained for MVT=0.99 CT=0.85 OT=11 AD=6\n",
      "Precission 0.6798024762846037 obtained for MVT=0.99 CT=0.95 OT=5 AD=1\n",
      "Precission 0.5111059689495955 obtained for MVT=0.99 CT=0.95 OT=5 AD=2\n",
      "Precission 0.4829403486607896 obtained for MVT=0.99 CT=0.95 OT=5 AD=4\n",
      "Precission 0.431994073152551 obtained for MVT=0.99 CT=0.95 OT=5 AD=6\n",
      "Precission 0.6364048932133801 obtained for MVT=0.99 CT=0.95 OT=7 AD=1\n",
      "Precission 0.45238359321467686 obtained for MVT=0.99 CT=0.95 OT=7 AD=2\n",
      "Precission 0.4470193418784908 obtained for MVT=0.99 CT=0.95 OT=7 AD=4\n",
      "Precission 0.493949857378772 obtained for MVT=0.99 CT=0.95 OT=7 AD=6\n",
      "Precission 0.7149820416115584 obtained for MVT=0.99 CT=0.95 OT=9 AD=1\n",
      "Precission 0.4287037305701439 obtained for MVT=0.99 CT=0.95 OT=9 AD=2\n",
      "Precission 0.41223878150496585 obtained for MVT=0.99 CT=0.95 OT=9 AD=4\n",
      "Precission 0.47483172777733856 obtained for MVT=0.99 CT=0.95 OT=9 AD=6\n",
      "Precission 0.7579989598104641 obtained for MVT=0.99 CT=0.95 OT=11 AD=1\n",
      "Precission 0.44752837379493526 obtained for MVT=0.99 CT=0.95 OT=11 AD=2\n",
      "Precission 0.4237010171487321 obtained for MVT=0.99 CT=0.95 OT=11 AD=4\n",
      "Precission 0.4353374079307618 obtained for MVT=0.99 CT=0.95 OT=11 AD=6\n"
     ]
    },
    {
     "data": {
      "text/plain": [
       "(0.7579989598104641, 0.99, 0.95, 11, 1)"
      ]
     },
     "execution_count": 14,
     "metadata": {},
     "output_type": "execute_result"
    }
   ],
   "source": [
    "#train_least_squares(y_train0, tx_train0)\n",
    "#\n",
    "# AD = 1\n",
    "# OT = greater?"
   ]
  },
  {
   "cell_type": "code",
   "execution_count": 15,
   "metadata": {},
   "outputs": [
    {
     "name": "stdout",
     "output_type": "stream",
     "text": [
      "Precission 0.7145748698123364 obtained for MVT=0.99 CT=0.85 OT=5 AD=1\n",
      "Precission 0.7687506424793358 obtained for MVT=0.99 CT=0.85 OT=5 AD=2\n",
      "Precission 0.7632441182986547 obtained for MVT=0.99 CT=0.85 OT=5 AD=4\n",
      "Precission 0.6576389152791761 obtained for MVT=0.99 CT=0.85 OT=5 AD=6\n",
      "Precission 0.7125889311560347 obtained for MVT=0.99 CT=0.85 OT=7 AD=1\n",
      "Precission 0.7724775207280195 obtained for MVT=0.99 CT=0.85 OT=7 AD=2\n",
      "Precission 0.7798797383459093 obtained for MVT=0.99 CT=0.85 OT=7 AD=4\n",
      "Precission 0.6968563395665672 obtained for MVT=0.99 CT=0.85 OT=7 AD=6\n",
      "Precission 0.711866874606145 obtained for MVT=0.99 CT=0.85 OT=9 AD=1\n",
      "Precission 0.7732642064789591 obtained for MVT=0.99 CT=0.85 OT=9 AD=2\n",
      "Precission 0.7874626883841715 obtained for MVT=0.99 CT=0.85 OT=9 AD=4\n",
      "Precission 0.7411794291591993 obtained for MVT=0.99 CT=0.85 OT=9 AD=6\n",
      "Precission 0.7112607458177038 obtained for MVT=0.99 CT=0.85 OT=11 AD=1\n",
      "Precission 0.7731223051312879 obtained for MVT=0.99 CT=0.85 OT=11 AD=2\n",
      "Precission 0.7902739659115786 obtained for MVT=0.99 CT=0.85 OT=11 AD=4\n",
      "Precission 0.7732128114583072 obtained for MVT=0.99 CT=0.85 OT=11 AD=6\n",
      "Precission 0.5963968029213753 obtained for MVT=0.99 CT=0.95 OT=5 AD=1\n",
      "Precission 0.5192532710794383 obtained for MVT=0.99 CT=0.95 OT=5 AD=2\n",
      "Precission 0.5087576596301185 obtained for MVT=0.99 CT=0.95 OT=5 AD=4\n",
      "Precission 0.4875946460102468 obtained for MVT=0.99 CT=0.95 OT=5 AD=6\n",
      "Precission 0.593005830041059 obtained for MVT=0.99 CT=0.95 OT=7 AD=1\n",
      "Precission 0.5053153690636635 obtained for MVT=0.99 CT=0.95 OT=7 AD=2\n",
      "Precission 0.5355159491789511 obtained for MVT=0.99 CT=0.95 OT=7 AD=4\n",
      "Precission 0.5127930210940445 obtained for MVT=0.99 CT=0.95 OT=7 AD=6\n",
      "Precission 0.6231700030632783 obtained for MVT=0.99 CT=0.95 OT=9 AD=1\n",
      "Precission 0.45063578782157043 obtained for MVT=0.99 CT=0.95 OT=9 AD=2\n",
      "Precission 0.5105356723902467 obtained for MVT=0.99 CT=0.95 OT=9 AD=4\n",
      "Precission 0.46850798590276643 obtained for MVT=0.99 CT=0.95 OT=9 AD=6\n",
      "Precission 0.6493592461385089 obtained for MVT=0.99 CT=0.95 OT=11 AD=1\n",
      "Precission 0.498646450604459 obtained for MVT=0.99 CT=0.95 OT=11 AD=2\n",
      "Precission 0.45144722560604605 obtained for MVT=0.99 CT=0.95 OT=11 AD=4\n",
      "Precission 0.49758765630074303 obtained for MVT=0.99 CT=0.95 OT=11 AD=6\n"
     ]
    },
    {
     "data": {
      "text/plain": [
       "(0.7902739659115786, 0.99, 0.85, 11, 4)"
      ]
     },
     "execution_count": 15,
     "metadata": {},
     "output_type": "execute_result"
    }
   ],
   "source": [
    "#train_least_squares(y_train1, tx_train1)\n",
    "#\n",
    "# AD = 4\n",
    "# OT = greater?"
   ]
  },
  {
   "cell_type": "code",
   "execution_count": 16,
   "metadata": {},
   "outputs": [
    {
     "name": "stdout",
     "output_type": "stream",
     "text": [
      "Precission 0.7325274730903693 obtained for MVT=0.99 CT=0.85 OT=5 AD=1\n",
      "Precission 0.7909646251762043 obtained for MVT=0.99 CT=0.85 OT=5 AD=2\n",
      "Precission 0.7694277476291844 obtained for MVT=0.99 CT=0.85 OT=5 AD=4\n",
      "Precission 0.6340534892632371 obtained for MVT=0.99 CT=0.85 OT=5 AD=6\n",
      "Precission 0.7319518281408689 obtained for MVT=0.99 CT=0.85 OT=7 AD=1\n",
      "Precission 0.7983287294477603 obtained for MVT=0.99 CT=0.85 OT=7 AD=2\n",
      "Precission 0.794220097974993 obtained for MVT=0.99 CT=0.85 OT=7 AD=4\n",
      "Precission 0.7095229171448357 obtained for MVT=0.99 CT=0.85 OT=7 AD=6\n",
      "Precission 0.7308205962230473 obtained for MVT=0.99 CT=0.85 OT=9 AD=1\n",
      "Precission 0.7998371503127102 obtained for MVT=0.99 CT=0.85 OT=9 AD=2\n",
      "Precission 0.8112109870689952 obtained for MVT=0.99 CT=0.85 OT=9 AD=4\n",
      "Precission 0.7674624299492591 obtained for MVT=0.99 CT=0.85 OT=9 AD=6\n",
      "Precission 0.7303638314073587 obtained for MVT=0.99 CT=0.85 OT=11 AD=1\n",
      "Precission 0.7987851199371132 obtained for MVT=0.99 CT=0.85 OT=11 AD=2\n",
      "Precission 0.8113898244310978 obtained for MVT=0.99 CT=0.85 OT=11 AD=4\n",
      "Precission 0.8045217596884028 obtained for MVT=0.99 CT=0.85 OT=11 AD=6\n",
      "Precission 0.5321845133314355 obtained for MVT=0.99 CT=0.95 OT=5 AD=1\n",
      "Precission 0.5184306112256528 obtained for MVT=0.99 CT=0.95 OT=5 AD=2\n",
      "Precission 0.5208710593533808 obtained for MVT=0.99 CT=0.95 OT=5 AD=4\n",
      "Precission 0.49873926496098636 obtained for MVT=0.99 CT=0.95 OT=5 AD=6\n",
      "Precission 0.6485223329987381 obtained for MVT=0.99 CT=0.95 OT=7 AD=1\n",
      "Precission 0.49365900249912087 obtained for MVT=0.99 CT=0.95 OT=7 AD=2\n",
      "Precission 0.5101131194485188 obtained for MVT=0.99 CT=0.95 OT=7 AD=4\n",
      "Precission 0.5118019971295081 obtained for MVT=0.99 CT=0.95 OT=7 AD=6\n",
      "Precission 0.5522127552683969 obtained for MVT=0.99 CT=0.95 OT=9 AD=1\n",
      "Precission 0.4694010995343577 obtained for MVT=0.99 CT=0.95 OT=9 AD=2\n",
      "Precission 0.48027983060748236 obtained for MVT=0.99 CT=0.95 OT=9 AD=4\n",
      "Precission 0.49004525408385113 obtained for MVT=0.99 CT=0.95 OT=9 AD=6\n",
      "Precission 0.6064630062148022 obtained for MVT=0.99 CT=0.95 OT=11 AD=1\n",
      "Precission 0.5271240271209281 obtained for MVT=0.99 CT=0.95 OT=11 AD=2\n",
      "Precission 0.47869144181638906 obtained for MVT=0.99 CT=0.95 OT=11 AD=4\n",
      "Precission 0.5327407524156362 obtained for MVT=0.99 CT=0.95 OT=11 AD=6\n"
     ]
    },
    {
     "data": {
      "text/plain": [
       "(0.8113898244310978, 0.99, 0.85, 11, 4)"
      ]
     },
     "execution_count": 16,
     "metadata": {},
     "output_type": "execute_result"
    }
   ],
   "source": [
    "#train_least_squares(y_train2, tx_train2)\n",
    "#\n",
    "# AD = 4\n",
    "# OT = greater?"
   ]
  },
  {
   "cell_type": "code",
   "execution_count": 17,
   "metadata": {},
   "outputs": [
    {
     "name": "stdout",
     "output_type": "stream",
     "text": [
      "Precission 0.7175596180924002 obtained for MVT=0.99 CT=0.85 OT=5 AD=1\n",
      "Precission 0.6935584649425339 obtained for MVT=0.99 CT=0.85 OT=5 AD=2\n",
      "Precission 0.7121473670151904 obtained for MVT=0.99 CT=0.85 OT=5 AD=4\n",
      "Precission 0.6573277034482926 obtained for MVT=0.99 CT=0.85 OT=5 AD=6\n",
      "Precission 0.7201762136780188 obtained for MVT=0.99 CT=0.85 OT=7 AD=1\n",
      "Precission 0.7254996880957636 obtained for MVT=0.99 CT=0.85 OT=7 AD=2\n",
      "Precission 0.7409768160685244 obtained for MVT=0.99 CT=0.85 OT=7 AD=4\n",
      "Precission 0.7101636296043539 obtained for MVT=0.99 CT=0.85 OT=7 AD=6\n",
      "Precission 0.7200414861137465 obtained for MVT=0.99 CT=0.85 OT=9 AD=1\n",
      "Precission 0.6980706727766236 obtained for MVT=0.99 CT=0.85 OT=9 AD=2\n",
      "Precission 0.7426453306795684 obtained for MVT=0.99 CT=0.85 OT=9 AD=4\n",
      "Precission 0.725366009034636 obtained for MVT=0.99 CT=0.85 OT=9 AD=6\n",
      "Precission 0.7219363145297698 obtained for MVT=0.99 CT=0.85 OT=11 AD=1\n",
      "Precission 0.7371403736010118 obtained for MVT=0.99 CT=0.85 OT=11 AD=2\n",
      "Precission 0.7480610733740464 obtained for MVT=0.99 CT=0.85 OT=11 AD=4\n",
      "Precission 0.7450843933055415 obtained for MVT=0.99 CT=0.85 OT=11 AD=6\n",
      "Precission 0.7174246665759999 obtained for MVT=0.99 CT=0.95 OT=5 AD=1\n",
      "Precission 0.7125076041927096 obtained for MVT=0.99 CT=0.95 OT=5 AD=2\n",
      "Precission 0.708536790448401 obtained for MVT=0.99 CT=0.95 OT=5 AD=4\n",
      "Precission 0.6613450279777287 obtained for MVT=0.99 CT=0.95 OT=5 AD=6\n",
      "Precission 0.7205372346879858 obtained for MVT=0.99 CT=0.95 OT=7 AD=1\n",
      "Precission 0.7454890849804674 obtained for MVT=0.99 CT=0.95 OT=7 AD=2\n",
      "Precission 0.7524351943619441 obtained for MVT=0.99 CT=0.95 OT=7 AD=4\n",
      "Precission 0.7199964004785246 obtained for MVT=0.99 CT=0.95 OT=7 AD=6\n",
      "Precission 0.7213955210388774 obtained for MVT=0.99 CT=0.95 OT=9 AD=1\n",
      "Precission 0.7340704378304821 obtained for MVT=0.99 CT=0.95 OT=9 AD=2\n",
      "Precission 0.7673708060892175 obtained for MVT=0.99 CT=0.95 OT=9 AD=4\n",
      "Precission 0.7352018541607455 obtained for MVT=0.99 CT=0.95 OT=9 AD=6\n",
      "Precission 0.7216659534130712 obtained for MVT=0.99 CT=0.95 OT=11 AD=1\n",
      "Precission 0.7374579478981482 obtained for MVT=0.99 CT=0.95 OT=11 AD=2\n",
      "Precission 0.7704836490515423 obtained for MVT=0.99 CT=0.95 OT=11 AD=4\n",
      "Precission 0.7449486579566934 obtained for MVT=0.99 CT=0.95 OT=11 AD=6\n"
     ]
    },
    {
     "data": {
      "text/plain": [
       "(0.7704836490515423, 0.99, 0.95, 11, 4)"
      ]
     },
     "execution_count": 17,
     "metadata": {},
     "output_type": "execute_result"
    }
   ],
   "source": [
    "#train_least_squares(y_train3, tx_train3)\n",
    "#\n",
    "# AD = 4\n",
    "# OT = greater?"
   ]
  },
  {
   "cell_type": "code",
   "execution_count": 12,
   "metadata": {},
   "outputs": [
    {
     "name": "stdout",
     "output_type": "stream",
     "text": [
      "Precission 0.7729833901003822 obtained for MVT=0.99 CT=0.9 OT=11 AD=1\n",
      "Precission 0.7238416541559073 obtained for MVT=0.99 CT=0.9 OT=13 AD=1\n",
      "Precission 0.76037174436826 obtained for MVT=0.99 CT=0.9 OT=15 AD=1\n",
      "Precission 0.7503712536598958 obtained for MVT=0.99 CT=0.9 OT=20 AD=1\n"
     ]
    },
    {
     "data": {
      "text/plain": [
       "(0.7729833901003822, 0.99, 0.9, 11, 1)"
      ]
     },
     "execution_count": 12,
     "metadata": {},
     "output_type": "execute_result"
    }
   ],
   "source": [
    "train_least_squares(y_train0, tx_train0)"
   ]
  },
  {
   "cell_type": "code",
   "execution_count": 12,
   "metadata": {},
   "outputs": [
    {
     "name": "stdout",
     "output_type": "stream",
     "text": [
      "Precission 0.7899772167534894 obtained for MVT=0.99 CT=0.9 OT=10 AD=4\n",
      "Precission 0.7895904202861367 obtained for MVT=0.99 CT=0.9 OT=12 AD=4\n",
      "Precission 0.7879397749745283 obtained for MVT=0.99 CT=0.9 OT=15 AD=4\n",
      "Precission 0.7873723799669816 obtained for MVT=0.99 CT=0.9 OT=20 AD=4\n"
     ]
    },
    {
     "data": {
      "text/plain": [
       "(0.7899772167534894, 0.99, 0.9, 10, 4)"
      ]
     },
     "execution_count": 12,
     "metadata": {},
     "output_type": "execute_result"
    }
   ],
   "source": [
    "train_least_squares(y_train1, tx_train1)"
   ]
  },
  {
   "cell_type": "code",
   "execution_count": 13,
   "metadata": {},
   "outputs": [
    {
     "name": "stdout",
     "output_type": "stream",
     "text": [
      "Precission 0.8146251939355194 obtained for MVT=0.99 CT=0.9 OT=10 AD=4\n",
      "Precission 0.8140892866817644 obtained for MVT=0.99 CT=0.9 OT=12 AD=4\n",
      "Precission 0.8163321831007421 obtained for MVT=0.99 CT=0.9 OT=15 AD=4\n",
      "Precission 0.8111115482629782 obtained for MVT=0.99 CT=0.9 OT=20 AD=4\n"
     ]
    },
    {
     "data": {
      "text/plain": [
       "(0.8163321831007421, 0.99, 0.9, 15, 4)"
      ]
     },
     "execution_count": 13,
     "metadata": {},
     "output_type": "execute_result"
    }
   ],
   "source": [
    "train_least_squares(y_train2, tx_train2)"
   ]
  },
  {
   "cell_type": "code",
   "execution_count": 14,
   "metadata": {},
   "outputs": [
    {
     "name": "stdout",
     "output_type": "stream",
     "text": [
      "Precission 0.728885976606368 obtained for MVT=0.99 CT=0.9 OT=10 AD=4\n",
      "Precission 0.7705283173214349 obtained for MVT=0.99 CT=0.9 OT=12 AD=4\n",
      "Precission 0.7627692413560586 obtained for MVT=0.99 CT=0.9 OT=15 AD=4\n",
      "Precission 0.7569487866273705 obtained for MVT=0.99 CT=0.9 OT=20 AD=4\n"
     ]
    },
    {
     "data": {
      "text/plain": [
       "(0.7705283173214349, 0.99, 0.9, 12, 4)"
      ]
     },
     "execution_count": 14,
     "metadata": {},
     "output_type": "execute_result"
    }
   ],
   "source": [
    "train_least_squares(y_train3, tx_train3)"
   ]
  },
  {
   "cell_type": "code",
   "execution_count": 15,
   "metadata": {},
   "outputs": [],
   "source": [
    "# These results are not good enough to improve our model, will regularized logistic regression be better?"
   ]
  },
  {
   "cell_type": "code",
   "execution_count": 12,
   "metadata": {},
   "outputs": [
    {
     "name": "stdout",
     "output_type": "stream",
     "text": [
      "Precission 0.7979943220980151 obtained for MVT=0.99 CT=0.9 OT=10 AD=1 LAMBDA=0.1 GAMMA=1e-07\n",
      "Precission 0.7982845122087134 obtained for MVT=0.99 CT=0.9 OT=10 AD=1 LAMBDA=1 GAMMA=1e-07\n",
      "Precission 0.7982544561335748 obtained for MVT=0.99 CT=0.9 OT=10 AD=1 LAMBDA=10 GAMMA=1e-07\n",
      "Precission 0.7854032764001938 obtained for MVT=0.99 CT=0.9 OT=10 AD=2 LAMBDA=0.1 GAMMA=1e-07\n",
      "Precission 0.7853632949632651 obtained for MVT=0.99 CT=0.9 OT=10 AD=2 LAMBDA=1 GAMMA=1e-07\n",
      "Precission 0.7847227179435221 obtained for MVT=0.99 CT=0.9 OT=10 AD=2 LAMBDA=10 GAMMA=1e-07\n",
      "Precission 0.7853833029619567 obtained for MVT=0.99 CT=0.9 OT=10 AD=4 LAMBDA=0.1 GAMMA=1e-07\n",
      "Precission 0.7855433464155672 obtained for MVT=0.99 CT=0.9 OT=10 AD=4 LAMBDA=1 GAMMA=1e-07\n",
      "Precission 0.7853332128425666 obtained for MVT=0.99 CT=0.9 OT=10 AD=4 LAMBDA=10 GAMMA=1e-07\n"
     ]
    },
    {
     "data": {
      "text/plain": [
       "(0.7982845122087134, 0.99, 0.9, 1)"
      ]
     },
     "execution_count": 12,
     "metadata": {},
     "output_type": "execute_result"
    }
   ],
   "source": [
    "train_reg_logistic_regression(y_train0,tx_train0)"
   ]
  },
  {
   "cell_type": "code",
   "execution_count": 13,
   "metadata": {},
   "outputs": [
    {
     "name": "stdout",
     "output_type": "stream",
     "text": [
      "Precission 0.7006602953782582 obtained for MVT=0.99 CT=0.9 OT=10 AD=1 LAMBDA=0.1 GAMMA=1e-07\n",
      "Precission 0.7005055989106511 obtained for MVT=0.99 CT=0.9 OT=10 AD=1 LAMBDA=1 GAMMA=1e-07\n",
      "Precission 0.7005958266671122 obtained for MVT=0.99 CT=0.9 OT=10 AD=1 LAMBDA=10 GAMMA=1e-07\n",
      "Precission 0.7012406218805814 obtained for MVT=0.99 CT=0.9 OT=10 AD=2 LAMBDA=0.1 GAMMA=1e-07\n",
      "Precission 0.7020658767647424 obtained for MVT=0.99 CT=0.9 OT=10 AD=2 LAMBDA=1 GAMMA=1e-07\n",
      "Precission 0.7009439683511914 obtained for MVT=0.99 CT=0.9 OT=10 AD=2 LAMBDA=10 GAMMA=1e-07\n",
      "Precission 0.7075337935607225 obtained for MVT=0.99 CT=0.9 OT=10 AD=4 LAMBDA=0.1 GAMMA=1e-07\n",
      "Precission 0.7077529720443385 obtained for MVT=0.99 CT=0.9 OT=10 AD=4 LAMBDA=1 GAMMA=1e-07\n",
      "Precission 0.7075467050982055 obtained for MVT=0.99 CT=0.9 OT=10 AD=4 LAMBDA=10 GAMMA=1e-07\n"
     ]
    },
    {
     "data": {
      "text/plain": [
       "(0.7077529720443385, 0.99, 0.9, 4)"
      ]
     },
     "execution_count": 13,
     "metadata": {},
     "output_type": "execute_result"
    }
   ],
   "source": [
    "train_reg_logistic_regression(y_train1,tx_train1)"
   ]
  },
  {
   "cell_type": "code",
   "execution_count": 14,
   "metadata": {},
   "outputs": [
    {
     "name": "stdout",
     "output_type": "stream",
     "text": [
      "Precission 0.7092242126094781 obtained for MVT=0.99 CT=0.9 OT=10 AD=1 LAMBDA=0.1 GAMMA=1e-07\n",
      "Precission 0.7092439632490344 obtained for MVT=0.99 CT=0.9 OT=10 AD=1 LAMBDA=1 GAMMA=1e-07\n",
      "Precission 0.7090254256238198 obtained for MVT=0.99 CT=0.9 OT=10 AD=1 LAMBDA=10 GAMMA=1e-07\n",
      "Precission 0.7250242790031493 obtained for MVT=0.99 CT=0.9 OT=10 AD=2 LAMBDA=0.1 GAMMA=1e-07\n",
      "Precission 0.7249448508949847 obtained for MVT=0.99 CT=0.9 OT=10 AD=2 LAMBDA=1 GAMMA=1e-07\n",
      "Precission 0.7255205805604452 obtained for MVT=0.99 CT=0.9 OT=10 AD=2 LAMBDA=10 GAMMA=1e-07\n",
      "Precission 0.7282597214026992 obtained for MVT=0.99 CT=0.9 OT=10 AD=4 LAMBDA=0.1 GAMMA=1e-07\n",
      "Precission 0.7280215946892943 obtained for MVT=0.99 CT=0.9 OT=10 AD=4 LAMBDA=1 GAMMA=1e-07\n",
      "Precission 0.7277039827337053 obtained for MVT=0.99 CT=0.9 OT=10 AD=4 LAMBDA=10 GAMMA=1e-07\n"
     ]
    },
    {
     "data": {
      "text/plain": [
       "(0.7282597214026992, 0.99, 0.9, 4)"
      ]
     },
     "execution_count": 14,
     "metadata": {},
     "output_type": "execute_result"
    }
   ],
   "source": [
    "train_reg_logistic_regression(y_train2,tx_train2)"
   ]
  },
  {
   "cell_type": "code",
   "execution_count": 15,
   "metadata": {},
   "outputs": [
    {
     "name": "stdout",
     "output_type": "stream",
     "text": [
      "Precission 0.6872857694302902 obtained for MVT=0.99 CT=0.9 OT=10 AD=1 LAMBDA=0.1 GAMMA=1e-07\n",
      "Precission 0.6879626443778651 obtained for MVT=0.99 CT=0.9 OT=10 AD=1 LAMBDA=1 GAMMA=1e-07\n",
      "Precission 0.6883238079028228 obtained for MVT=0.99 CT=0.9 OT=10 AD=1 LAMBDA=10 GAMMA=1e-07\n",
      "Precission 0.6599882852677774 obtained for MVT=0.99 CT=0.9 OT=10 AD=2 LAMBDA=0.1 GAMMA=1e-07\n",
      "Precission 0.659764088828372 obtained for MVT=0.99 CT=0.9 OT=10 AD=2 LAMBDA=1 GAMMA=1e-07\n",
      "Precission 0.6603504056791002 obtained for MVT=0.99 CT=0.9 OT=10 AD=2 LAMBDA=10 GAMMA=1e-07\n",
      "Precission 0.6626964263755344 obtained for MVT=0.99 CT=0.9 OT=10 AD=4 LAMBDA=0.1 GAMMA=1e-07\n",
      "Precission 0.6641402355650637 obtained for MVT=0.99 CT=0.9 OT=10 AD=4 LAMBDA=1 GAMMA=1e-07\n",
      "Precission 0.6636436929787344 obtained for MVT=0.99 CT=0.9 OT=10 AD=4 LAMBDA=10 GAMMA=1e-07\n"
     ]
    },
    {
     "data": {
      "text/plain": [
       "(0.6883238079028228, 0.99, 0.9, 1)"
      ]
     },
     "execution_count": 15,
     "metadata": {},
     "output_type": "execute_result"
    }
   ],
   "source": [
    "train_reg_logistic_regression(y_train3,tx_train3)"
   ]
  },
  {
   "cell_type": "code",
   "execution_count": 12,
   "metadata": {},
   "outputs": [
    {
     "name": "stdout",
     "output_type": "stream",
     "text": [
      "Precission 0.7913284133571388 obtained for MVT=0.99 CT=0.9 OT=4 AD=1 LAMBDA=1 GAMMA=1e-07\n",
      "Precission 0.7956622252125196 obtained for MVT=0.99 CT=0.9 OT=6 AD=1 LAMBDA=1 GAMMA=1e-07\n"
     ]
    },
    {
     "data": {
      "text/plain": [
       "(0.7956622252125196, 0.99, 0.9, 1)"
      ]
     },
     "execution_count": 12,
     "metadata": {},
     "output_type": "execute_result"
    }
   ],
   "source": [
    "train_reg_logistic_regression(y_train0,tx_train0)"
   ]
  },
  {
   "cell_type": "code",
   "execution_count": 13,
   "metadata": {},
   "outputs": [
    {
     "name": "stdout",
     "output_type": "stream",
     "text": [
      "Precission 0.7022852074227229 obtained for MVT=0.99 CT=0.9 OT=4 AD=1 LAMBDA=1 GAMMA=1e-07\n",
      "Precission 0.701343747038109 obtained for MVT=0.99 CT=0.9 OT=6 AD=1 LAMBDA=1 GAMMA=1e-07\n"
     ]
    },
    {
     "data": {
      "text/plain": [
       "(0.7022852074227229, 0.99, 0.9, 1)"
      ]
     },
     "execution_count": 13,
     "metadata": {},
     "output_type": "execute_result"
    }
   ],
   "source": [
    "train_reg_logistic_regression(y_train1,tx_train1)"
   ]
  },
  {
   "cell_type": "code",
   "execution_count": null,
   "metadata": {},
   "outputs": [],
   "source": []
  }
 ],
 "metadata": {
  "kernelspec": {
   "display_name": "Python 3",
   "language": "python",
   "name": "python3"
  },
  "language_info": {
   "codemirror_mode": {
    "name": "ipython",
    "version": 3
   },
   "file_extension": ".py",
   "mimetype": "text/x-python",
   "name": "python",
   "nbconvert_exporter": "python",
   "pygments_lexer": "ipython3",
   "version": "3.6.9"
  }
 },
 "nbformat": 4,
 "nbformat_minor": 4
}
